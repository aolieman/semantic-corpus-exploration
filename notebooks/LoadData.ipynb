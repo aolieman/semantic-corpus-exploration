{
  "nbformat": 4,
  "nbformat_minor": 0,
  "metadata": {
    "colab": {
      "name": "LoadData.ipynb",
      "version": "0.3.2",
      "provenance": [],
      "include_colab_link": true
    },
    "kernelspec": {
      "name": "python3",
      "display_name": "Python 3"
    }
  },
  "cells": [
    {
      "cell_type": "markdown",
      "metadata": {
        "id": "view-in-github",
        "colab_type": "text"
      },
      "source": [
        "<a href=\"https://colab.research.google.com/github/aolieman/semantic-corpus-exploration/blob/master/notebooks/LoadData.ipynb\" target=\"_parent\"><img src=\"https://colab.research.google.com/assets/colab-badge.svg\" alt=\"Open In Colab\"/></a>"
      ]
    },
    {
      "cell_type": "markdown",
      "metadata": {
        "id": "S4uByBiH8NZb",
        "colab_type": "text"
      },
      "source": [
        "## Loading data into colab"
      ]
    },
    {
      "cell_type": "markdown",
      "metadata": {
        "id": "0Z_E97xk_Fcw",
        "colab_type": "text"
      },
      "source": [
        "Examples taken from[ this post](https://towardsdatascience.com/3-ways-to-load-csv-files-into-colab-7c14fcbdcb92) on Towards Data Science"
      ]
    },
    {
      "cell_type": "markdown",
      "metadata": {
        "id": "XmHqLCp58TwT",
        "colab_type": "text"
      },
      "source": [
        "### From Github"
      ]
    },
    {
      "cell_type": "code",
      "metadata": {
        "id": "_l7hQzn27GjH",
        "colab_type": "code",
        "outputId": "9aaa00ad-0c58-4e70-d364-6878342d491f",
        "colab": {
          "base_uri": "https://localhost:8080/",
          "height": 119
        }
      },
      "source": [
        "import pandas as pd\n",
        "url = 'https://raw.githubusercontent.com/kasparvonbeelen/CTH2019/master/data_nytimes/page_5281959998_2018_12_28_22_00_39_fullstats.tab'\n",
        "df = pd.read_csv(url,sep=\"\\t\")\n",
        "df['post_message'].head(5)"
      ],
      "execution_count": 0,
      "outputs": [
        {
          "output_type": "execute_result",
          "data": {
            "text/plain": [
              "0    Facebook keeps its rulebooks and their existen...\n",
              "1    In 1972  Jerry Lewis  best known for mainstrea...\n",
              "2    The last issue of the New York Times Magazine ...\n",
              "3    Trump s trip to Iraq was supposed to be a secr...\n",
              "4    So why did an explosion turn New York City s n...\n",
              "Name: post_message, dtype: object"
            ]
          },
          "metadata": {
            "tags": []
          },
          "execution_count": 1
        }
      ]
    },
    {
      "cell_type": "markdown",
      "metadata": {
        "id": "Rq1XoUMZ9OVm",
        "colab_type": "text"
      },
      "source": [
        "### From a local disk"
      ]
    },
    {
      "cell_type": "code",
      "metadata": {
        "id": "kBYEZ2Ll9H-M",
        "colab_type": "code",
        "outputId": "bbf1a8cb-8e38-4d36-819e-58df9466f272",
        "colab": {
          "resources": {
            "http://localhost:8080/nbextensions/google.colab/files.js": {
              "data": "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",
              "ok": true,
              "headers": [
                [
                  "content-type",
                  "application/javascript"
                ]
              ],
              "status": 200,
              "status_text": ""
            }
          },
          "base_uri": "https://localhost:8080/",
          "height": 207
        }
      },
      "source": [
        "from google.colab import files\n",
        "uploaded = files.upload()"
      ],
      "execution_count": 0,
      "outputs": [
        {
          "output_type": "display_data",
          "data": {
            "text/html": [
              "\n",
              "     <input type=\"file\" id=\"files-11127674-a126-4290-be77-01e249621d4a\" name=\"files[]\" multiple disabled />\n",
              "     <output id=\"result-11127674-a126-4290-be77-01e249621d4a\">\n",
              "      Upload widget is only available when the cell has been executed in the\n",
              "      current browser session. Please rerun this cell to enable.\n",
              "      </output>\n",
              "      <script src=\"/nbextensions/google.colab/files.js\"></script> "
            ],
            "text/plain": [
              "<IPython.core.display.HTML object>"
            ]
          },
          "metadata": {
            "tags": []
          }
        },
        {
          "output_type": "stream",
          "text": [
            "Saving Acton.1897.b19783322.txt to Acton.1897.b19783322.txt\n",
            "Saving Acton.1898.b19783334.txt to Acton.1898.b19783334.txt\n",
            "Saving Acton.1899.b19783346.txt to Acton.1899.b19783346.txt\n",
            "Saving Acton.1900.b19783358.txt to Acton.1900.b19783358.txt\n",
            "Saving Acton.1901.b1978336x.txt to Acton.1901.b1978336x.txt\n"
          ],
          "name": "stdout"
        }
      ]
    },
    {
      "cell_type": "code",
      "metadata": {
        "id": "b66qcgtK9h7z",
        "colab_type": "code",
        "outputId": "933e806d-3789-4b04-91eb-1c50d04415e8",
        "colab": {
          "base_uri": "https://localhost:8080/",
          "height": 34
        }
      },
      "source": [
        "uploaded.keys()"
      ],
      "execution_count": 0,
      "outputs": [
        {
          "output_type": "execute_result",
          "data": {
            "text/plain": [
              "dict_keys(['Acton.1897.b19783322.txt', 'Acton.1898.b19783334.txt', 'Acton.1899.b19783346.txt', 'Acton.1900.b19783358.txt', 'Acton.1901.b1978336x.txt'])"
            ]
          },
          "metadata": {
            "tags": []
          },
          "execution_count": 7
        }
      ]
    },
    {
      "cell_type": "code",
      "metadata": {
        "id": "S60QWetpG1dR",
        "colab_type": "code",
        "outputId": "a1a45dab-0682-4ea2-e0ea-70d094d46c5c",
        "colab": {
          "base_uri": "https://localhost:8080/",
          "height": 68
        }
      },
      "source": [
        "!ls sample_data/"
      ],
      "execution_count": 0,
      "outputs": [
        {
          "output_type": "stream",
          "text": [
            "anscombe.json\t\t      mnist_test.csv\n",
            "california_housing_test.csv   mnist_train_small.csv\n",
            "california_housing_train.csv  README.md\n"
          ],
          "name": "stdout"
        }
      ]
    },
    {
      "cell_type": "code",
      "metadata": {
        "id": "58W8Vj6e924Z",
        "colab_type": "code",
        "outputId": "b204414e-d114-4d35-cc1f-6e2b12efa1be",
        "colab": {
          "base_uri": "https://localhost:8080/",
          "height": 34
        }
      },
      "source": [
        "data =  uploaded[\"Acton.1897.b19783322.txt\"]\n",
        "print(data[:100])"
      ],
      "execution_count": 0,
      "outputs": [
        {
          "output_type": "stream",
          "text": [
            "b'ACT 5 8232 THE Urban District Council of Acton. ANNUAL REPORT of the MEDICAL OFFICER, FOR THE YEAR 1'\n"
          ],
          "name": "stdout"
        }
      ]
    },
    {
      "cell_type": "markdown",
      "metadata": {
        "id": "KuHB33ya-TpA",
        "colab_type": "text"
      },
      "source": [
        "### From Google Drive"
      ]
    },
    {
      "cell_type": "code",
      "metadata": {
        "id": "YQunZ6fj-Wvk",
        "colab_type": "code",
        "outputId": "48cb1705-4960-44d3-bff0-cb9d2c2c2d49",
        "colab": {
          "base_uri": "https://localhost:8080/",
          "height": 51
        }
      },
      "source": [
        "!pip install -U -q PyDrive\n",
        "from pydrive.auth import GoogleAuth\n",
        "from pydrive.drive import GoogleDrive\n",
        "from google.colab import auth\n",
        "from oauth2client.client import GoogleCredentials\n",
        "# Authenticate and create the PyDrive client.\n",
        "auth.authenticate_user()\n",
        "gauth = GoogleAuth()\n",
        "gauth.credentials = GoogleCredentials.get_application_default()\n",
        "drive = GoogleDrive(gauth)"
      ],
      "execution_count": 0,
      "outputs": [
        {
          "output_type": "stream",
          "text": [
            "\u001b[?25l\r\u001b[K     |▎                               | 10kB 16.9MB/s eta 0:00:01\r\u001b[K     |▋                               | 20kB 3.6MB/s eta 0:00:01\r\u001b[K     |█                               | 30kB 5.1MB/s eta 0:00:01\r\u001b[K     |█▎                              | 40kB 3.3MB/s eta 0:00:01\r\u001b[K     |█▋                              | 51kB 4.0MB/s eta 0:00:01\r\u001b[K     |██                              | 61kB 4.7MB/s eta 0:00:01\r\u001b[K     |██▎                             | 71kB 5.4MB/s eta 0:00:01\r\u001b[K     |██▋                             | 81kB 6.1MB/s eta 0:00:01\r\u001b[K     |███                             | 92kB 6.8MB/s eta 0:00:01\r\u001b[K     |███▎                            | 102kB 5.3MB/s eta 0:00:01\r\u001b[K     |███▋                            | 112kB 5.3MB/s eta 0:00:01\r\u001b[K     |████                            | 122kB 5.3MB/s eta 0:00:01\r\u001b[K     |████▎                           | 133kB 5.3MB/s eta 0:00:01\r\u001b[K     |████▋                           | 143kB 5.3MB/s eta 0:00:01\r\u001b[K     |█████                           | 153kB 5.3MB/s eta 0:00:01\r\u001b[K     |█████▎                          | 163kB 5.3MB/s eta 0:00:01\r\u001b[K     |█████▋                          | 174kB 5.3MB/s eta 0:00:01\r\u001b[K     |██████                          | 184kB 5.3MB/s eta 0:00:01\r\u001b[K     |██████▎                         | 194kB 5.3MB/s eta 0:00:01\r\u001b[K     |██████▋                         | 204kB 5.3MB/s eta 0:00:01\r\u001b[K     |███████                         | 215kB 5.3MB/s eta 0:00:01\r\u001b[K     |███████▎                        | 225kB 5.3MB/s eta 0:00:01\r\u001b[K     |███████▋                        | 235kB 5.3MB/s eta 0:00:01\r\u001b[K     |████████                        | 245kB 5.3MB/s eta 0:00:01\r\u001b[K     |████████▎                       | 256kB 5.3MB/s eta 0:00:01\r\u001b[K     |████████▋                       | 266kB 5.3MB/s eta 0:00:01\r\u001b[K     |█████████                       | 276kB 5.3MB/s eta 0:00:01\r\u001b[K     |█████████▎                      | 286kB 5.3MB/s eta 0:00:01\r\u001b[K     |█████████▋                      | 296kB 5.3MB/s eta 0:00:01\r\u001b[K     |██████████                      | 307kB 5.3MB/s eta 0:00:01\r\u001b[K     |██████████▎                     | 317kB 5.3MB/s eta 0:00:01\r\u001b[K     |██████████▋                     | 327kB 5.3MB/s eta 0:00:01\r\u001b[K     |███████████                     | 337kB 5.3MB/s eta 0:00:01\r\u001b[K     |███████████▎                    | 348kB 5.3MB/s eta 0:00:01\r\u001b[K     |███████████▋                    | 358kB 5.3MB/s eta 0:00:01\r\u001b[K     |████████████                    | 368kB 5.3MB/s eta 0:00:01\r\u001b[K     |████████████▎                   | 378kB 5.3MB/s eta 0:00:01\r\u001b[K     |████████████▋                   | 389kB 5.3MB/s eta 0:00:01\r\u001b[K     |█████████████                   | 399kB 5.3MB/s eta 0:00:01\r\u001b[K     |█████████████▎                  | 409kB 5.3MB/s eta 0:00:01\r\u001b[K     |█████████████▋                  | 419kB 5.3MB/s eta 0:00:01\r\u001b[K     |██████████████                  | 430kB 5.3MB/s eta 0:00:01\r\u001b[K     |██████████████▎                 | 440kB 5.3MB/s eta 0:00:01\r\u001b[K     |██████████████▋                 | 450kB 5.3MB/s eta 0:00:01\r\u001b[K     |███████████████                 | 460kB 5.3MB/s eta 0:00:01\r\u001b[K     |███████████████▎                | 471kB 5.3MB/s eta 0:00:01\r\u001b[K     |███████████████▋                | 481kB 5.3MB/s eta 0:00:01\r\u001b[K     |████████████████                | 491kB 5.3MB/s eta 0:00:01\r\u001b[K     |████████████████▎               | 501kB 5.3MB/s eta 0:00:01\r\u001b[K     |████████████████▋               | 512kB 5.3MB/s eta 0:00:01\r\u001b[K     |█████████████████               | 522kB 5.3MB/s eta 0:00:01\r\u001b[K     |█████████████████▎              | 532kB 5.3MB/s eta 0:00:01\r\u001b[K     |█████████████████▋              | 542kB 5.3MB/s eta 0:00:01\r\u001b[K     |██████████████████              | 552kB 5.3MB/s eta 0:00:01\r\u001b[K     |██████████████████▎             | 563kB 5.3MB/s eta 0:00:01\r\u001b[K     |██████████████████▋             | 573kB 5.3MB/s eta 0:00:01\r\u001b[K     |███████████████████             | 583kB 5.3MB/s eta 0:00:01\r\u001b[K     |███████████████████▎            | 593kB 5.3MB/s eta 0:00:01\r\u001b[K     |███████████████████▋            | 604kB 5.3MB/s eta 0:00:01\r\u001b[K     |████████████████████            | 614kB 5.3MB/s eta 0:00:01\r\u001b[K     |████████████████████▎           | 624kB 5.3MB/s eta 0:00:01\r\u001b[K     |████████████████████▋           | 634kB 5.3MB/s eta 0:00:01\r\u001b[K     |█████████████████████           | 645kB 5.3MB/s eta 0:00:01\r\u001b[K     |█████████████████████▎          | 655kB 5.3MB/s eta 0:00:01\r\u001b[K     |█████████████████████▋          | 665kB 5.3MB/s eta 0:00:01\r\u001b[K     |██████████████████████          | 675kB 5.3MB/s eta 0:00:01\r\u001b[K     |██████████████████████▎         | 686kB 5.3MB/s eta 0:00:01\r\u001b[K     |██████████████████████▋         | 696kB 5.3MB/s eta 0:00:01\r\u001b[K     |███████████████████████         | 706kB 5.3MB/s eta 0:00:01\r\u001b[K     |███████████████████████▎        | 716kB 5.3MB/s eta 0:00:01\r\u001b[K     |███████████████████████▋        | 727kB 5.3MB/s eta 0:00:01\r\u001b[K     |████████████████████████        | 737kB 5.3MB/s eta 0:00:01\r\u001b[K     |████████████████████████▎       | 747kB 5.3MB/s eta 0:00:01\r\u001b[K     |████████████████████████▋       | 757kB 5.3MB/s eta 0:00:01\r\u001b[K     |████████████████████████▉       | 768kB 5.3MB/s eta 0:00:01\r\u001b[K     |█████████████████████████▏      | 778kB 5.3MB/s eta 0:00:01\r\u001b[K     |█████████████████████████▌      | 788kB 5.3MB/s eta 0:00:01\r\u001b[K     |█████████████████████████▉      | 798kB 5.3MB/s eta 0:00:01\r\u001b[K     |██████████████████████████▏     | 808kB 5.3MB/s eta 0:00:01\r\u001b[K     |██████████████████████████▌     | 819kB 5.3MB/s eta 0:00:01\r\u001b[K     |██████████████████████████▉     | 829kB 5.3MB/s eta 0:00:01\r\u001b[K     |███████████████████████████▏    | 839kB 5.3MB/s eta 0:00:01\r\u001b[K     |███████████████████████████▌    | 849kB 5.3MB/s eta 0:00:01\r\u001b[K     |███████████████████████████▉    | 860kB 5.3MB/s eta 0:00:01\r\u001b[K     |████████████████████████████▏   | 870kB 5.3MB/s eta 0:00:01\r\u001b[K     |████████████████████████████▌   | 880kB 5.3MB/s eta 0:00:01\r\u001b[K     |████████████████████████████▉   | 890kB 5.3MB/s eta 0:00:01\r\u001b[K     |█████████████████████████████▏  | 901kB 5.3MB/s eta 0:00:01\r\u001b[K     |█████████████████████████████▌  | 911kB 5.3MB/s eta 0:00:01\r\u001b[K     |█████████████████████████████▉  | 921kB 5.3MB/s eta 0:00:01\r\u001b[K     |██████████████████████████████▏ | 931kB 5.3MB/s eta 0:00:01\r\u001b[K     |██████████████████████████████▌ | 942kB 5.3MB/s eta 0:00:01\r\u001b[K     |██████████████████████████████▉ | 952kB 5.3MB/s eta 0:00:01\r\u001b[K     |███████████████████████████████▏| 962kB 5.3MB/s eta 0:00:01\r\u001b[K     |███████████████████████████████▌| 972kB 5.3MB/s eta 0:00:01\r\u001b[K     |███████████████████████████████▉| 983kB 5.3MB/s eta 0:00:01\r\u001b[K     |████████████████████████████████| 993kB 5.3MB/s \n",
            "\u001b[?25h  Building wheel for PyDrive (setup.py) ... \u001b[?25l\u001b[?25hdone\n"
          ],
          "name": "stdout"
        }
      ]
    },
    {
      "cell_type": "code",
      "metadata": {
        "id": "Nt5eAlKp_idb",
        "colab_type": "code",
        "colab": {}
      },
      "source": [
        "url = \"https://drive.google.com/open?id=1TB_bEWkwX2BPOiP_lEe5HEfjT6ZXP4vw\""
      ],
      "execution_count": 0,
      "outputs": []
    },
    {
      "cell_type": "code",
      "metadata": {
        "id": "3TwEtPcs_vA3",
        "colab_type": "code",
        "outputId": "c4f154f7-83de-43b4-8af6-70c8322f84df",
        "colab": {
          "base_uri": "https://localhost:8080/",
          "height": 34
        }
      },
      "source": [
        "fluff, doc_id = url.split('=')\n",
        "print(doc_id)"
      ],
      "execution_count": 0,
      "outputs": [
        {
          "output_type": "stream",
          "text": [
            "1TB_bEWkwX2BPOiP_lEe5HEfjT6ZXP4vw\n"
          ],
          "name": "stdout"
        }
      ]
    },
    {
      "cell_type": "code",
      "metadata": {
        "id": "OqE4aJrTALAJ",
        "colab_type": "code",
        "colab": {}
      },
      "source": [
        "import json"
      ],
      "execution_count": 0,
      "outputs": []
    },
    {
      "cell_type": "code",
      "metadata": {
        "id": "VvCa8fPgAAEh",
        "colab_type": "code",
        "outputId": "53c2709f-0879-4d92-c7e6-fe9ad7639c4b",
        "colab": {
          "base_uri": "https://localhost:8080/",
          "height": 34
        }
      },
      "source": [
        "downloaded = drive.CreateFile({'id':doc_id}) \n",
        "downloaded.GetContentFile('idaho_example.json')  \n",
        "json_doc = json.load(open('idaho_example.json'))\n",
        "print(json_doc.keys())"
      ],
      "execution_count": 0,
      "outputs": [
        {
          "output_type": "stream",
          "text": [
            "dict_keys(['totalItems', 'endIndex', 'startIndex', 'itemsPerPage', 'items'])\n"
          ],
          "name": "stdout"
        }
      ]
    }
  ]
}