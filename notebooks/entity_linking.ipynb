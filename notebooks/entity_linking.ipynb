{
  "nbformat": 4,
  "nbformat_minor": 0,
  "metadata": {
    "colab": {
      "name": "entity-linking.ipynb",
      "version": "0.3.2",
      "provenance": [],
      "collapsed_sections": [],
      "toc_visible": true,
      "include_colab_link": true
    },
    "kernelspec": {
      "name": "python3",
      "display_name": "Python 3"
    }
  },
  "cells": [
    {
      "cell_type": "markdown",
      "metadata": {
        "id": "view-in-github",
        "colab_type": "text"
      },
      "source": [
        "<a href=\"https://colab.research.google.com/github/aolieman/semantic-corpus-exploration/blob/master/notebooks/entity_linking.ipynb\" target=\"_parent\"><img src=\"https://colab.research.google.com/assets/colab-badge.svg\" alt=\"Open In Colab\"/></a>"
      ]
    },
    {
      "cell_type": "markdown",
      "metadata": {
        "id": "5MA8sEm-su0X",
        "colab_type": "text"
      },
      "source": [
        "# Part I: Entity Linking with DBpedia Spotlight\n",
        "\n",
        "![Spotlight Logo](https://cleverdon.hum.uva.nl/spotlight/demo/dbpedia_spotlight_logo.jpg)"
      ]
    },
    {
      "cell_type": "code",
      "metadata": {
        "id": "StRiOke99ThJ",
        "colab_type": "code",
        "colab": {}
      },
      "source": [
        "from IPython.display import IFrame\n",
        "from urllib.parse import quote"
      ],
      "execution_count": 0,
      "outputs": []
    },
    {
      "cell_type": "markdown",
      "metadata": {
        "id": "VA-x33za9tpw",
        "colab_type": "text"
      },
      "source": [
        "## Confidence parameter\n",
        "\n",
        "### The horse named Buck\n",
        "\n",
        "> \"She named her horse 'Buck.'\"\n",
        "\n",
        "Before proceeding to click the \"annotate\" button in the next cell, please decide for yourself which words in this sentence should be linked. Assume no further context is available.\n",
        "\n",
        "In the Spotlight annotation widget presented below, we present the example as part of a metadata record: a blog post with a title and (plain-text) tags. Now please proceed by clicking the \"annotate\" button."
      ]
    },
    {
      "cell_type": "code",
      "metadata": {
        "id": "UXNMCeDFW671",
        "colab_type": "code",
        "colab": {
          "base_uri": "https://localhost:8080/",
          "height": 471
        },
        "outputId": "4542510e-8917-4d66-f38e-f3403839af90"
      },
      "source": [
        "IFrame('https://cleverdon.hum.uva.nl/spotlight/demo/?nologo=1&text=Title:%20%22She%20named%20her%20horse%20%27Buck.%27%22%0ATags:%20saddle,%20crupper,%20stirrups', 900, 450)"
      ],
      "execution_count": 18,
      "outputs": [
        {
          "output_type": "execute_result",
          "data": {
            "text/html": [
              "\n",
              "        <iframe\n",
              "            width=\"900\"\n",
              "            height=\"450\"\n",
              "            src=\"https://cleverdon.hum.uva.nl/spotlight/demo/?nologo=1&text=Title:%20%22She%20named%20her%20horse%20%27Buck.%27%22%0ATags:%20saddle,%20crupper,%20stirrups\"\n",
              "            frameborder=\"0\"\n",
              "            allowfullscreen\n",
              "        ></iframe>\n",
              "        "
            ],
            "text/plain": [
              "<IPython.lib.display.IFrame at 0x7f232c5dc080>"
            ]
          },
          "metadata": {
            "tags": []
          },
          "execution_count": 18
        }
      ]
    },
    {
      "cell_type": "markdown",
      "metadata": {
        "id": "_b6sh4ZA-3Kk",
        "colab_type": "text"
      },
      "source": [
        "By default, Spotlight links the tags, but no terms from the title.\n",
        "\n",
        "Did you notice the confidence slider at the top-left of the widget? This can be used to control how many annotations Spotlight will generate:\n",
        "\n",
        "- ask it to be more confident about its entity links, and it will generate fewer of them;\n",
        "- relax this constraint, and Spotlight will dare to guess, even if the input is not at all similar to the training data it has seen.\n",
        "\n",
        "Please try different values of the confidence parameter on the previous input.\n",
        "\n",
        "#### Questions\n",
        "\n",
        "What exactly does the confidence parameter control?\n",
        "\n",
        "Can you relate this to the spotting and disambiguation probabilities that were previously discussed?\n",
        "\n",
        "*Hint:* by selecting the \"n-best candidates\" checkbox, more information will be provided about each linked surface form."
      ]
    },
    {
      "cell_type": "markdown",
      "metadata": {
        "id": "DF471mbKS8e4",
        "colab_type": "text"
      },
      "source": [
        "### Darwin's Origin of Species\n",
        "\n",
        "With the default confidence value of 0.5, Spotlight succeeds in identifying the most salient topics of the following paragraph:\n",
        "\n",
        "- Domestic pigeons\n",
        "- Breed (i.e. specific group of domestic animals)\n",
        "- Animal fancy\n",
        "\n",
        "Please click \"annotate\" below  to validate this statement.\n",
        "\n",
        "There are, however, additional surface forms that are annotated. Whether they should have been linked at all, depends on the goal for which entity linking is employed. When a document collection is to be systematically annotated, the goal of this endeavor should be made explicit by annotation guidelines. Such guidelines—in the ideal case—make it possible to objectively establish whether an annotation can be considered \"correct\" or not.\n",
        "\n",
        "#### Questions\n",
        "\n",
        "Can you give an example of a rule that would be applicable to annotate all published works by Charles Darwin?\n",
        "- e.g. \"The names of cities should be linked, but the names of countries should not.\"\n",
        "\n",
        "Is it possible to formulate rules according to which all annotations that Spotlight generates in this example are correct?\n",
        "\n",
        "Is there a confidence value at which it becomes easier to formulate rules that consider all the annotations that Spotlight does (and does not) generate as correct?"
      ]
    },
    {
      "cell_type": "code",
      "metadata": {
        "id": "2ZvKWhKZSyVz",
        "colab_type": "code",
        "colab": {
          "base_uri": "https://localhost:8080/",
          "height": 471
        },
        "outputId": "f4f18548-2440-47f2-c1c8-2d97a7392549"
      },
      "source": [
        "# source: http://darwin-online.org.uk/content/frameset?itemID=F373&viewtype=side&pageseq=35\n",
        "url_text = quote(\"\"\"\n",
        "Believing that it is always best to study some special group, I have, after deliberation, taken up domestic pigeons. I have kept every breed which I could purchase or obtain, and have been most kindly favoured with skins from several quarters of the world, more especially by the Hon. W. Elliot from India, and by the Hon. C. Murray from Persia. Many treatises in different languages have been published on pigeons, and some of them are very important, as being of considerable antiquity. I have associated with several eminent fanciers, and have been permitted to join two of the London Pigeon Clubs.\n",
        "\"\"\")\n",
        "IFrame(f'https://cleverdon.hum.uva.nl/spotlight/demo/?nologo=1&text={url_text}', 900, 450)"
      ],
      "execution_count": 19,
      "outputs": [
        {
          "output_type": "execute_result",
          "data": {
            "text/html": [
              "\n",
              "        <iframe\n",
              "            width=\"900\"\n",
              "            height=\"450\"\n",
              "            src=\"https://cleverdon.hum.uva.nl/spotlight/demo/?nologo=1&text=%0ABelieving%20that%20it%20is%20always%20best%20to%20study%20some%20special%20group%2C%20I%20have%2C%20after%20deliberation%2C%20taken%20up%20domestic%20pigeons.%20I%20have%20kept%20every%20breed%20which%20I%20could%20purchase%20or%20obtain%2C%20and%20have%20been%20most%20kindly%20favoured%20with%20skins%20from%20several%20quarters%20of%20the%20world%2C%20more%20especially%20by%20the%20Hon.%20W.%20Elliot%20from%20India%2C%20and%20by%20the%20Hon.%20C.%20Murray%20from%20Persia.%20Many%20treatises%20in%20different%20languages%20have%20been%20published%20on%20pigeons%2C%20and%20some%20of%20them%20are%20very%20important%2C%20as%20being%20of%20considerable%20antiquity.%20I%20have%20associated%20with%20several%20eminent%20fanciers%2C%20and%20have%20been%20permitted%20to%20join%20two%20of%20the%20London%20Pigeon%20Clubs.%0A\"\n",
              "            frameborder=\"0\"\n",
              "            allowfullscreen\n",
              "        ></iframe>\n",
              "        "
            ],
            "text/plain": [
              "<IPython.lib.display.IFrame at 0x7f232c5dcd30>"
            ]
          },
          "metadata": {
            "tags": []
          },
          "execution_count": 19
        }
      ]
    },
    {
      "cell_type": "markdown",
      "metadata": {
        "id": "gvTp3kwaLRoC",
        "colab_type": "text"
      },
      "source": [
        "## Toponyms\n",
        "\n",
        "Location names can be notorioriously ambiguous. In the following examples we'll see how Spotlight fares with toponyms.\n",
        "\n",
        "### The MP for Thornhill\n",
        "\n",
        "Please set the confidence to `0.4` before pressing \"annotate,\" to get the most out of this example."
      ]
    },
    {
      "cell_type": "code",
      "metadata": {
        "id": "ccLIhRBCNXVs",
        "colab_type": "code",
        "colab": {
          "base_uri": "https://localhost:8080/",
          "height": 471
        },
        "outputId": "31582b67-5f6f-4d17-e29e-462449a04414"
      },
      "source": [
        "# source: http://resolver.politicalmashup.nl/ca.proc.d.20080130-377?view=html#ca.proc.d.20080130-377.4.2.11\n",
        "url_text = quote(\"\"\"\n",
        "Mr. Speaker, today I am pleased to present two petitions in the House. The first is from residents in my riding of Thornhill who are eager for federal investments in mass public transit. Today I am presenting a petition calling on the Prime Minister to commit to providing federal funding for the Yonge Street subway extension, which is critical to the quality of life of residents.\n",
        "\"\"\")\n",
        "IFrame(f'https://cleverdon.hum.uva.nl/spotlight/demo/?nologo=1&text={url_text}', 900, 450)"
      ],
      "execution_count": 20,
      "outputs": [
        {
          "output_type": "execute_result",
          "data": {
            "text/html": [
              "\n",
              "        <iframe\n",
              "            width=\"900\"\n",
              "            height=\"450\"\n",
              "            src=\"https://cleverdon.hum.uva.nl/spotlight/demo/?nologo=1&text=%0AMr.%20Speaker%2C%20today%20I%20am%20pleased%20to%20present%20two%20petitions%20in%20the%20House.%20The%20first%20is%20from%20residents%20in%20my%20riding%20of%20Thornhill%20who%20are%20eager%20for%20federal%20investments%20in%20mass%20public%20transit.%20Today%20I%20am%20presenting%20a%20petition%20calling%20on%20the%20Prime%20Minister%20to%20commit%20to%20providing%20federal%20funding%20for%20the%20Yonge%20Street%20subway%20extension%2C%20which%20is%20critical%20to%20the%20quality%20of%20life%20of%20residents.%0A\"\n",
              "            frameborder=\"0\"\n",
              "            allowfullscreen\n",
              "        ></iframe>\n",
              "        "
            ],
            "text/plain": [
              "<IPython.lib.display.IFrame at 0x7f232c5dcef0>"
            ]
          },
          "metadata": {
            "tags": []
          },
          "execution_count": 20
        }
      ]
    },
    {
      "cell_type": "markdown",
      "metadata": {
        "id": "4AUPzTPqOHHf",
        "colab_type": "text"
      },
      "source": [
        "Spotlight gets both Thornhill and Yonge Street right, and is able to link the adjective “federal” and the Prime Minister to their Canadian counterparts.\n",
        "\n",
        "Its confidence in Thornhill is pretty low though, partly because it is a highly ambigous name, but also because in this case it refers to a specific administrative subdivision: the riding.\n",
        "\n",
        "If we increase the confidence threshold to `0.5` (please do so), Thornhill will not be linked with the current context. But if “riding” is replaced with “district”, for instance, it will be linked to the suburban community of Thornhill, instead of the riding with the same name. District is now also linked, as a seperate concept. One way to think about this, is that it is easier for Spotlight to deal with the modified example because it more closely resembles the Wikipedia articles it was trained on.\n",
        "\n",
        "*Hint:* the input text is not editable when the button is labeled \"back to text.\" After clicking on this button, the text becomes editable again.\n",
        "\n",
        "To find out how many ways there are to incorrectly disambiguate Thornhill, see [this overview](https://www.geonames.org/search.html?q=thornhill&country=).\n"
      ]
    },
    {
      "cell_type": "markdown",
      "metadata": {
        "id": "zBU4gOB_UY1-",
        "colab_type": "text"
      },
      "source": [
        "### Belgian Congo\n",
        "\n",
        "This example features toponyms that have changed since the time of writing."
      ]
    },
    {
      "cell_type": "code",
      "metadata": {
        "id": "dQ9ElYRNUhHX",
        "colab_type": "code",
        "colab": {
          "base_uri": "https://localhost:8080/",
          "height": 471
        },
        "outputId": "6b50a8b5-0976-47bc-ba7f-d1f52d96bf4e"
      },
      "source": [
        "url_text = quote(\"\"\"\n",
        "In eight days after leaving London one can now be in the Belgian Congo, and the same applies to travellers from Belgium [...] Motor transport takes them to Stanleyville [...] Passengers who fly north from Capetown can change at Broken Hill to a feeder air service to Elisabethsville. Here there is a train link to Port Francqui, at which point connections are established with the Congo airways, which run from Luluabourg to Leopoldville.\n",
        "\"\"\")\n",
        "IFrame(f'https://cleverdon.hum.uva.nl/spotlight/demo/?nologo=1&text={url_text}', 900, 450)"
      ],
      "execution_count": 21,
      "outputs": [
        {
          "output_type": "execute_result",
          "data": {
            "text/html": [
              "\n",
              "        <iframe\n",
              "            width=\"900\"\n",
              "            height=\"450\"\n",
              "            src=\"https://cleverdon.hum.uva.nl/spotlight/demo/?nologo=1&text=%0AIn%20eight%20days%20after%20leaving%20London%20one%20can%20now%20be%20in%20the%20Belgian%20Congo%2C%20and%20the%20same%20applies%20to%20travellers%20from%20Belgium%20%5B...%5D%20Motor%20transport%20takes%20them%20to%20Stanleyville%20%5B...%5D%20Passengers%20who%20fly%20north%20from%20Capetown%20can%20change%20at%20Broken%20Hill%20to%20a%20feeder%20air%20service%20to%20Elisabethsville.%20Here%20there%20is%20a%20train%20link%20to%20Port%20Francqui%2C%20at%20which%20point%20connections%20are%20established%20with%20the%20Congo%20airways%2C%20which%20run%20from%20Luluabourg%20to%20Leopoldville.%0A\"\n",
              "            frameborder=\"0\"\n",
              "            allowfullscreen\n",
              "        ></iframe>\n",
              "        "
            ],
            "text/plain": [
              "<IPython.lib.display.IFrame at 0x7f232c638470>"
            ]
          },
          "metadata": {
            "tags": []
          },
          "execution_count": 21
        }
      ]
    },
    {
      "cell_type": "markdown",
      "metadata": {
        "id": "dNsiKoQsUGwF",
        "colab_type": "text"
      },
      "source": [
        "### Order, please.\n",
        "\n",
        "In this example, we have redacted the text to obfuscate in which country the following exchange took place.\n",
        "\n",
        "Can you tell in which parliament these words were spoken?\n",
        "\n",
        "Please annotate the text with a confidence value of `0.4`."
      ]
    },
    {
      "cell_type": "code",
      "metadata": {
        "id": "ze-7bGYBUhjc",
        "colab_type": "code",
        "colab": {
          "base_uri": "https://localhost:8080/",
          "height": 471
        },
        "outputId": "4f81c6fb-1e78-422c-8306-c4fdb6d2364d"
      },
      "source": [
        "# source (redacted): http://resolver.politicalmashup.nl/xx.proc.d.20080130-377?view=html#xx.proc.d.20080130-377.4.2.11\n",
        "url_text = quote(\"\"\"\n",
        "A: Mr. Speaker, the [...] obviously think [...] are foolish. They think [...] cannot understand that it is not a proper use of parliamentary funds to run a party office in a [...] where they do not even have a single parliamentarian. That is one of the many reasons why [...] understand one does not have to have ever been in power to be a hypocrite that big.\n",
        "\n",
        "B: Order, please. The Prime Minister knows that word is an unparliamentary word.\n",
        "\n",
        "C: Mr. Speaker, can the Prime Minister please provide an update to the House on [...] work with our allies in response to the situation in Ukraine?\n",
        "\"\"\")\n",
        "IFrame(f'https://cleverdon.hum.uva.nl/spotlight/demo/?nologo=1&text={url_text}', 900, 450)"
      ],
      "execution_count": 22,
      "outputs": [
        {
          "output_type": "execute_result",
          "data": {
            "text/html": [
              "\n",
              "        <iframe\n",
              "            width=\"900\"\n",
              "            height=\"450\"\n",
              "            src=\"https://cleverdon.hum.uva.nl/spotlight/demo/?nologo=1&text=%0AA%3A%20Mr.%20Speaker%2C%20the%20%5B...%5D%20obviously%20think%20%5B...%5D%20are%20foolish.%20They%20think%20%5B...%5D%20cannot%20understand%20that%20it%20is%20not%20a%20proper%20use%20of%20parliamentary%20funds%20to%20run%20a%20party%20office%20in%20a%20%5B...%5D%20where%20they%20do%20not%20even%20have%20a%20single%20parliamentarian.%20That%20is%20one%20of%20the%20many%20reasons%20why%20%5B...%5D%20understand%20one%20does%20not%20have%20to%20have%20ever%20been%20in%20power%20to%20be%20a%20hypocrite%20that%20big.%0A%0AB%3A%20Order%2C%20please.%20The%20Prime%20Minister%20knows%20that%20word%20is%20an%20unparliamentary%20word.%0A%0AC%3A%20Mr.%20Speaker%2C%20can%20the%20Prime%20Minister%20please%20provide%20an%20update%20to%20the%20House%20on%20%5B...%5D%20work%20with%20our%20allies%20in%20response%20to%20the%20situation%20in%20Ukraine%3F%0A\"\n",
              "            frameborder=\"0\"\n",
              "            allowfullscreen\n",
              "        ></iframe>\n",
              "        "
            ],
            "text/plain": [
              "<IPython.lib.display.IFrame at 0x7f232c5dc2b0>"
            ]
          },
          "metadata": {
            "tags": []
          },
          "execution_count": 22
        }
      ]
    },
    {
      "cell_type": "markdown",
      "metadata": {
        "id": "weF6PeIVWuu7",
        "colab_type": "text"
      },
      "source": [
        "To see how well Spotlight guessed which country it is, please check the link target of \"Prime Minister.\"\n",
        "\n",
        "That answer doesn't seem right.\n",
        "\n",
        "Can you guess which word threw Spotlight off course?\n",
        "\n",
        "---\n",
        "\n",
        "-\n",
        "\n",
        "Let’s see what happens to the link target when we remove “hypocrite” from the input text.\n",
        "\n",
        "-\n",
        "\n",
        "---\n",
        "\n",
        "It may seem strange to us that the use of the word \"hypocrite\" would reveal much about the nationality of person A (the Prime Minister).\n",
        "\n",
        "#### Question\n",
        "\n",
        "What *should* an entity linker pay attention to instead, if it was trained on these parliamentary corpora?\n",
        "\n",
        "The parlimentary language that is used in Commonwealth parliaments has a lot of overlap. Which words are most informative to make the distinction between Canadian and British parliamentary language, for instance.\n",
        "\n",
        "*Hint:* compare the number of search results for the following queries:\n",
        "- Canadian parliament: [“order”](http://search.politicalmashup.nl/?query=%20%7B%22page%22:1,%22debug%22:false,%22useRegexQuery%22:false,%22regexQuery%22:%22%22,%22query%22:%22%5C%22order%5C%22%22,%22downloadAmount%22:1000,%22selectedCollection%22:%22Canada%22,%22selectedDocType%22:%22Speech%22,%22selectedOrder%22:%22Relevance%22,%22excludedPartiesTags%22:%5B%5D,%22excludedSpeakersTags%22:%5B%5D,%22selectedSpeakersTags%22:%5B%5D,%22selectedPartiesTags%22:%5B%5D,%22partyFacets%22:%7B%7D,%22speakerFacets%22:%7B%7D,%22houseFacets%22:%7B%7D,%22categoryFacets%22:%7B%7D,%22dossierFacets%22:%7B%7D,%22roleFacets%22:%7B%7D,%22excludedParties%22:%7B%7D,%22excludedSpeakers%22:%7B%7D,%22sliderYearMin%22:1800,%22sliderYearMax%22:2018,%22dateStart%22:%221800-01-01T00:00:00.000Z%22,%22dateEnd%22:%222018-01-01T00:00:00.000Z%22,%22docType%22:%22speech%22,%22searchTopicTitleOnly%22:false,%22searchClicked%22:false,%22advancedSearchOpened%22:false,%22graphsOpened%22:false%7D) vs [“order please”](http://search.politicalmashup.nl/?query=%20%7B%22page%22:1,%22debug%22:false,%22useRegexQuery%22:false,%22regexQuery%22:%22%22,%22query%22:%22%5C%22order%20please%5C%22%22,%22downloadAmount%22:1000,%22selectedCollection%22:%22Canada%22,%22selectedDocType%22:%22Speech%22,%22selectedOrder%22:%22Relevance%22,%22excludedPartiesTags%22:%5B%5D,%22excludedSpeakersTags%22:%5B%5D,%22selectedSpeakersTags%22:%5B%5D,%22selectedPartiesTags%22:%5B%5D,%22partyFacets%22:%7B%7D,%22speakerFacets%22:%7B%7D,%22houseFacets%22:%7B%7D,%22categoryFacets%22:%7B%7D,%22dossierFacets%22:%7B%7D,%22roleFacets%22:%7B%7D,%22excludedParties%22:%7B%7D,%22excludedSpeakers%22:%7B%7D,%22sliderYearMin%22:1800,%22sliderYearMax%22:2018,%22dateStart%22:%221800-01-01T00:00:00.000Z%22,%22dateEnd%22:%222018-01-01T00:00:00.000Z%22,%22docType%22:%22speech%22,%22searchTopicTitleOnly%22:false,%22searchClicked%22:true,%22advancedSearchOpened%22:false,%22graphsOpened%22:false,%22yearFacets%22:%7B%7D%7D)\n",
        "- UK parliament: [“order”](http://search.politicalmashup.nl/?query=%20%7B%22page%22:1,%22debug%22:false,%22useRegexQuery%22:false,%22regexQuery%22:%22%22,%22query%22:%22%5C%22order%5C%22%22,%22downloadAmount%22:1000,%22selectedCollection%22:%22United%20Kingdom%22,%22selectedDocType%22:%22Speech%22,%22selectedOrder%22:%22Relevance%22,%22excludedPartiesTags%22:%5B%5D,%22excludedSpeakersTags%22:%5B%5D,%22selectedSpeakersTags%22:%5B%5D,%22selectedPartiesTags%22:%5B%5D,%22partyFacets%22:%7B%7D,%22speakerFacets%22:%7B%7D,%22houseFacets%22:%7B%7D,%22categoryFacets%22:%7B%7D,%22dossierFacets%22:%7B%7D,%22roleFacets%22:%7B%7D,%22excludedParties%22:%7B%7D,%22excludedSpeakers%22:%7B%7D,%22sliderYearMin%22:1800,%22sliderYearMax%22:2018,%22dateStart%22:%221800-01-01T00:00:00.000Z%22,%22dateEnd%22:%222018-01-01T00:00:00.000Z%22,%22docType%22:%22speech%22,%22searchTopicTitleOnly%22:false,%22searchClicked%22:true,%22advancedSearchOpened%22:false,%22graphsOpened%22:false,%22yearFacets%22:%7B%7D%7D) vs [“order please”](http://search.politicalmashup.nl/?query=%20%7B%22page%22:1,%22debug%22:false,%22useRegexQuery%22:false,%22regexQuery%22:%22%22,%22query%22:%22%5C%22order%20please%5C%22%22,%22downloadAmount%22:1000,%22selectedCollection%22:%22United%20Kingdom%22,%22selectedDocType%22:%22Speech%22,%22selectedOrder%22:%22Relevance%22,%22excludedPartiesTags%22:%5B%5D,%22excludedSpeakersTags%22:%5B%5D,%22selectedSpeakersTags%22:%5B%5D,%22selectedPartiesTags%22:%5B%5D,%22partyFacets%22:%7B%7D,%22speakerFacets%22:%7B%7D,%22houseFacets%22:%7B%7D,%22categoryFacets%22:%7B%7D,%22dossierFacets%22:%7B%7D,%22roleFacets%22:%7B%7D,%22excludedParties%22:%7B%7D,%22excludedSpeakers%22:%7B%7D,%22sliderYearMin%22:1800,%22sliderYearMax%22:2018,%22dateStart%22:%221800-01-01T00:00:00.000Z%22,%22dateEnd%22:%222018-01-01T00:00:00.000Z%22,%22docType%22:%22speech%22,%22searchTopicTitleOnly%22:false,%22searchClicked%22:true,%22advancedSearchOpened%22:false,%22graphsOpened%22:false,%22yearFacets%22:%7B%7D%7D)"
      ]
    },
    {
      "cell_type": "markdown",
      "metadata": {
        "id": "Ef4ulIhTeTYR",
        "colab_type": "text"
      },
      "source": [
        "### Another London\n",
        "\n",
        "In this example, Spotlight's contextual score cannot overcome the \"commonness\" prior."
      ]
    },
    {
      "cell_type": "code",
      "metadata": {
        "id": "eAuYOkwtUeQB",
        "colab_type": "code",
        "colab": {
          "base_uri": "https://localhost:8080/",
          "height": 471
        },
        "outputId": "4c02b7f4-712f-45d5-a490-9311104314e7"
      },
      "source": [
        "url_text = quote(\"\"\"\n",
        "Two CNR trains running between London and Toronto and passing through St. Mary's at 8:05 a.m. and 8.20 p.m., and which did not stop at the depot here, have been advised to do so.\n",
        "\"\"\")\n",
        "IFrame(f'https://cleverdon.hum.uva.nl/spotlight/demo/?nologo=1&text={url_text}', 900, 450)"
      ],
      "execution_count": 23,
      "outputs": [
        {
          "output_type": "execute_result",
          "data": {
            "text/html": [
              "\n",
              "        <iframe\n",
              "            width=\"900\"\n",
              "            height=\"450\"\n",
              "            src=\"https://cleverdon.hum.uva.nl/spotlight/demo/?nologo=1&text=%0ATwo%20CNR%20trains%20running%20between%20London%20and%20Toronto%20and%20passing%20through%20St.%20Mary%27s%20at%208%3A05%20a.m.%20and%208.20%20p.m.%2C%20and%20which%20did%20not%20stop%20at%20the%20depot%20here%2C%20have%20been%20advised%20to%20do%20so.%0A\"\n",
              "            frameborder=\"0\"\n",
              "            allowfullscreen\n",
              "        ></iframe>\n",
              "        "
            ],
            "text/plain": [
              "<IPython.lib.display.IFrame at 0x7f232c5eb0b8>"
            ]
          },
          "metadata": {
            "tags": []
          },
          "execution_count": 23
        }
      ]
    },
    {
      "cell_type": "markdown",
      "metadata": {
        "id": "1N-VuoSPe9T5",
        "colab_type": "text"
      },
      "source": [
        "## Literature"
      ]
    },
    {
      "cell_type": "markdown",
      "metadata": {
        "id": "4b4fyMhsTWuv",
        "colab_type": "text"
      },
      "source": [
        "### Alice in Wonderland\n",
        "\n"
      ]
    },
    {
      "cell_type": "code",
      "metadata": {
        "id": "2gQLxJz-Tj4R",
        "colab_type": "code",
        "colab": {
          "base_uri": "https://localhost:8080/",
          "height": 471
        },
        "outputId": "68acae6c-b6d0-4700-984e-596130e3b58b"
      },
      "source": [
        "url_text = quote(\"\"\"\n",
        "Alice was not a bit hurt, and she jumped up on to her feet in a moment: she looked up, but it was all dark overhead; before her was another long passage, and the White Rabbit was still in sight, hurrying down it.\n",
        "\"\"\")\n",
        "IFrame(f'https://cleverdon.hum.uva.nl/spotlight/demo/?nologo=1&text={url_text}', 900, 450)"
      ],
      "execution_count": 24,
      "outputs": [
        {
          "output_type": "execute_result",
          "data": {
            "text/html": [
              "\n",
              "        <iframe\n",
              "            width=\"900\"\n",
              "            height=\"450\"\n",
              "            src=\"https://cleverdon.hum.uva.nl/spotlight/demo/?nologo=1&text=%0AAlice%20was%20not%20a%20bit%20hurt%2C%20and%20she%20jumped%20up%20on%20to%20her%20feet%20in%20a%20moment%3A%20she%20looked%20up%2C%20but%20it%20was%20all%20dark%20overhead%3B%20before%20her%20was%20another%20long%20passage%2C%20and%20the%20White%20Rabbit%20was%20still%20in%20sight%2C%20hurrying%20down%20it.%0A\"\n",
              "            frameborder=\"0\"\n",
              "            allowfullscreen\n",
              "        ></iframe>\n",
              "        "
            ],
            "text/plain": [
              "<IPython.lib.display.IFrame at 0x7f232c5eb2b0>"
            ]
          },
          "metadata": {
            "tags": []
          },
          "execution_count": 24
        }
      ]
    },
    {
      "cell_type": "markdown",
      "metadata": {
        "id": "RJyXtnJ1TyK5",
        "colab_type": "text"
      },
      "source": [
        "### Adam without Eve\n",
        "\n",
        "Try a lower confidence value to reunite this famous couple."
      ]
    },
    {
      "cell_type": "code",
      "metadata": {
        "id": "cPCOVgfdT5tN",
        "colab_type": "code",
        "colab": {
          "base_uri": "https://localhost:8080/",
          "height": 471
        },
        "outputId": "8308cb97-4484-4eb9-8e9a-834ce66ebdcf"
      },
      "source": [
        "# source: https://gist.github.com/phillipj/4944029\n",
        "url_text = quote(\"\"\"\n",
        "And Adam called his wife's name Eve; because she was the mother of all living.\n",
        "\"\"\")\n",
        "IFrame(f'https://cleverdon.hum.uva.nl/spotlight/demo/?nologo=1&text={url_text}', 900, 450)"
      ],
      "execution_count": 25,
      "outputs": [
        {
          "output_type": "execute_result",
          "data": {
            "text/html": [
              "\n",
              "        <iframe\n",
              "            width=\"900\"\n",
              "            height=\"450\"\n",
              "            src=\"https://cleverdon.hum.uva.nl/spotlight/demo/?nologo=1&text=%0AAnd%20Adam%20called%20his%20wife%27s%20name%20Eve%3B%20because%20she%20was%20the%20mother%20of%20all%20living.%0A\"\n",
              "            frameborder=\"0\"\n",
              "            allowfullscreen\n",
              "        ></iframe>\n",
              "        "
            ],
            "text/plain": [
              "<IPython.lib.display.IFrame at 0x7f232c5eb240>"
            ]
          },
          "metadata": {
            "tags": []
          },
          "execution_count": 25
        }
      ]
    },
    {
      "cell_type": "markdown",
      "metadata": {
        "id": "BrJO_TYvUIpa",
        "colab_type": "text"
      },
      "source": [
        "### The Gospel According to Saint Matthew\n",
        "\n",
        "Which confidence value yields the most correct links, without introducing any mistakes?\n",
        "\n"
      ]
    },
    {
      "cell_type": "code",
      "metadata": {
        "id": "bSgq56xrUSBQ",
        "colab_type": "code",
        "colab": {
          "base_uri": "https://localhost:8080/",
          "height": 471
        },
        "outputId": "3323d0c1-2b88-4998-8f77-d681ba51ea8d"
      },
      "source": [
        "url_text = quote(\"\"\"\n",
        "Now the birth of Jesus Christ was on this wise: When as his mother Mary was espoused to Joseph, before they came together, she was found with child of the Holy Ghost.\n",
        "\"\"\")\n",
        "IFrame(f'https://cleverdon.hum.uva.nl/spotlight/demo/?nologo=1&text={url_text}', 900, 450)"
      ],
      "execution_count": 26,
      "outputs": [
        {
          "output_type": "execute_result",
          "data": {
            "text/html": [
              "\n",
              "        <iframe\n",
              "            width=\"900\"\n",
              "            height=\"450\"\n",
              "            src=\"https://cleverdon.hum.uva.nl/spotlight/demo/?nologo=1&text=%0ANow%20the%20birth%20of%20Jesus%20Christ%20was%20on%20this%20wise%3A%20When%20as%20his%20mother%20Mary%20was%20espoused%20to%20Joseph%2C%20before%20they%20came%20together%2C%20she%20was%20found%20with%20child%20of%20the%20Holy%20Ghost.%0A\"\n",
              "            frameborder=\"0\"\n",
              "            allowfullscreen\n",
              "        ></iframe>\n",
              "        "
            ],
            "text/plain": [
              "<IPython.lib.display.IFrame at 0x7f232c5eb2e8>"
            ]
          },
          "metadata": {
            "tags": []
          },
          "execution_count": 26
        }
      ]
    },
    {
      "cell_type": "markdown",
      "metadata": {
        "id": "QRDPAw2Yhv2q",
        "colab_type": "text"
      },
      "source": [
        "## Miscellaneous"
      ]
    },
    {
      "cell_type": "markdown",
      "metadata": {
        "id": "7KwRbLn4Mcd7",
        "colab_type": "text"
      },
      "source": [
        "### Livingstone: famous, but not for his writing\n",
        "\n",
        "- https://en.wikipedia.org/wiki/Ken_Livingstone"
      ]
    },
    {
      "cell_type": "code",
      "metadata": {
        "id": "VBv0ur91CHRD",
        "colab_type": "code",
        "colab": {
          "base_uri": "https://localhost:8080/",
          "height": 471
        },
        "outputId": "c2609266-4140-40e0-bf63-90a2e0250221"
      },
      "source": [
        "# source: http://resolver.politicalmashup.nl/uk.proc.d.1990-07-03?view=html&q=nietzsche#uk.proc.d.1990-07-03.7.2.7\n",
        "url_text = quote(\"\"\"\n",
        "The entry in the Register of Members' Interests for the hon. Member for Brent, East (Mr. Livingstone), who is a director of a publishing company called Localaction Ltd., says: It is a company formed to cover the publication of my book and any other major writing. What an interesting thought. I see a seamless stream of writers, Nietzsche, Marx, Lenin, Socrates, Livingstone — that has a certain ring about it.\n",
        "\"\"\")\n",
        "IFrame(f'https://cleverdon.hum.uva.nl/spotlight/demo/?nologo=1&text={url_text}', 900, 450)"
      ],
      "execution_count": 27,
      "outputs": [
        {
          "output_type": "execute_result",
          "data": {
            "text/html": [
              "\n",
              "        <iframe\n",
              "            width=\"900\"\n",
              "            height=\"450\"\n",
              "            src=\"https://cleverdon.hum.uva.nl/spotlight/demo/?nologo=1&text=%0AThe%20entry%20in%20the%20Register%20of%20Members%27%20Interests%20for%20the%20hon.%20Member%20for%20Brent%2C%20East%20%28Mr.%20Livingstone%29%2C%20who%20is%20a%20director%20of%20a%20publishing%20company%20called%20Localaction%20Ltd.%2C%20says%3A%20It%20is%20a%20company%20formed%20to%20cover%20the%20publication%20of%20my%20book%20and%20any%20other%20major%20writing.%20What%20an%20interesting%20thought.%20I%20see%20a%20seamless%20stream%20of%20writers%2C%20Nietzsche%2C%20Marx%2C%20Lenin%2C%20Socrates%2C%20Livingstone%20%E2%80%94%20that%20has%20a%20certain%20ring%20about%20it.%0A\"\n",
              "            frameborder=\"0\"\n",
              "            allowfullscreen\n",
              "        ></iframe>\n",
              "        "
            ],
            "text/plain": [
              "<IPython.lib.display.IFrame at 0x7f232c5eb470>"
            ]
          },
          "metadata": {
            "tags": []
          },
          "execution_count": 27
        }
      ]
    },
    {
      "cell_type": "markdown",
      "metadata": {
        "id": "kg6I_hDgTIKA",
        "colab_type": "text"
      },
      "source": [
        "### Medical Officers of Health Report"
      ]
    },
    {
      "cell_type": "code",
      "metadata": {
        "id": "jgVFWcmdS5-k",
        "colab_type": "code",
        "colab": {
          "base_uri": "https://localhost:8080/",
          "height": 471
        },
        "outputId": "2bb73c4e-749b-42e5-8c2a-3866cd16d054"
      },
      "source": [
        "# source: https://wellcomelibrary.org/moh/report/b18248342/1#?c=0&m=0&s=0&cv=4&z=-0.0458%2C1.1963%2C1.1517%2C0.4496\n",
        "url_text = quote(\"\"\"\n",
        "The Board has given much attention to the question of Public Urinals and Conveniences, and has caused to be erected in the Broadway and on Knightsbridge Green, three patent cast-iron Urinals, of a design which it was hoped would be so far unobjectionable as to admit of their being placed in the most public thoroughfares. This hope has not altogether been realized; and the Board has since, in conjunction with the Burial Board of St. Margaret and St. John, caused to be erected in Great Chapel Street, adjoining the Broadway Burying Ground, another form of Urinal, upon the principle of adapting the design to the immediate requirements of the locality,—a principle which the Board believes will, in this instance at all events, be successful.\n",
        "\"\"\")\n",
        "IFrame(f'https://cleverdon.hum.uva.nl/spotlight/demo/?nologo=1&text={url_text}', 900, 450)"
      ],
      "execution_count": 28,
      "outputs": [
        {
          "output_type": "execute_result",
          "data": {
            "text/html": [
              "\n",
              "        <iframe\n",
              "            width=\"900\"\n",
              "            height=\"450\"\n",
              "            src=\"https://cleverdon.hum.uva.nl/spotlight/demo/?nologo=1&text=%0AThe%20Board%20has%20given%20much%20attention%20to%20the%20question%20of%20Public%20Urinals%20and%20Conveniences%2C%20and%20has%20caused%20to%20be%20erected%20in%20the%20Broadway%20and%20on%20Knightsbridge%20Green%2C%20three%20patent%20cast-iron%20Urinals%2C%20of%20a%20design%20which%20it%20was%20hoped%20would%20be%20so%20far%20unobjectionable%20as%20to%20admit%20of%20their%20being%20placed%20in%20the%20most%20public%20thoroughfares.%20This%20hope%20has%20not%20altogether%20been%20realized%3B%20and%20the%20Board%20has%20since%2C%20in%20conjunction%20with%20the%20Burial%20Board%20of%20St.%20Margaret%20and%20St.%20John%2C%20caused%20to%20be%20erected%20in%20Great%20Chapel%20Street%2C%20adjoining%20the%20Broadway%20Burying%20Ground%2C%20another%20form%20of%20Urinal%2C%20upon%20the%20principle%20of%20adapting%20the%20design%20to%20the%20immediate%20requirements%20of%20the%20locality%2C%E2%80%94a%20principle%20which%20the%20Board%20believes%20will%2C%20in%20this%20instance%20at%20all%20events%2C%20be%20successful.%0A\"\n",
              "            frameborder=\"0\"\n",
              "            allowfullscreen\n",
              "        ></iframe>\n",
              "        "
            ],
            "text/plain": [
              "<IPython.lib.display.IFrame at 0x7f232c5eb5f8>"
            ]
          },
          "metadata": {
            "tags": []
          },
          "execution_count": 28
        }
      ]
    },
    {
      "cell_type": "markdown",
      "metadata": {
        "id": "0VVGNdbCvDYm",
        "colab_type": "text"
      },
      "source": [
        "## Your own documents\n",
        "\n",
        "To interactively annotate any document of your choosing, you may use the following UIs:\n",
        "\n",
        "- https://cleverdon.hum.uva.nl/spotlight/demo/ (en & nl)\n",
        "- https://www.dbpedia-spotlight.org/demo/ (en, de, & pt)"
      ]
    }
  ]
}