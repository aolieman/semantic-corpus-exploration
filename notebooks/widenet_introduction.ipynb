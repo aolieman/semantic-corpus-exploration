{
  "nbformat": 4,
  "nbformat_minor": 0,
  "metadata": {
    "colab": {
      "name": "widenet-introduction.ipynb",
      "version": "0.3.2",
      "provenance": [],
      "collapsed_sections": [],
      "toc_visible": true,
      "include_colab_link": true
    },
    "kernelspec": {
      "name": "python3",
      "display_name": "Python 3"
    }
  },
  "cells": [
    {
      "cell_type": "markdown",
      "metadata": {
        "id": "view-in-github",
        "colab_type": "text"
      },
      "source": [
        "<a href=\"https://colab.research.google.com/github/aolieman/semantic-corpus-exploration/blob/master/notebooks/widenet_introduction.ipynb\" target=\"_parent\"><img src=\"https://colab.research.google.com/assets/colab-badge.svg\" alt=\"Open In Colab\"/></a>"
      ]
    },
    {
      "cell_type": "markdown",
      "metadata": {
        "id": "HLYJr6ysInST",
        "colab_type": "text"
      },
      "source": [
        "# Semantic Corpus Exploration\n",
        "\n",
        "\n"
      ]
    },
    {
      "cell_type": "markdown",
      "metadata": {
        "id": "CRPZBAvTWurr",
        "colab_type": "text"
      },
      "source": [
        "## Part II: Introducing WideNet"
      ]
    },
    {
      "cell_type": "markdown",
      "metadata": {
        "id": "ewCMtd0vWsOy",
        "colab_type": "text"
      },
      "source": [
        "### Semantic Search Tools for the (Digital) Humanities\n"
      ]
    },
    {
      "cell_type": "markdown",
      "metadata": {
        "id": "oEXLu0v5I1Yx",
        "colab_type": "text"
      },
      "source": [
        "## Introduction\n",
        "\n",
        "The previous part of the workshop disentangled the algorithms that drive entity linking. This part emphasises particular applications of entity linking: exploratory search and source selection. \n",
        "\n",
        "In general, the goal of this section is to introduce [**WideNet**](http://widenet.politicalmashup.nl/dh2017/) an exploratory search system for corpus selection. We first explain how and why we built WideNet, and then continue by demonstrating the interface. \n",
        "\n",
        "We show how entity linking allows us to explore digital corpora in new ways and argue that even if the technology itself is far from perfect, it can still serve useful purposes for some application. This, however, requires a particular tool design, that corrects or at least accommodates for the possible negative effects of the crummy technologies involved. \n",
        "\n",
        "In short, the topics we cover are\n",
        "\n",
        "- Finding Complex Concepts (Search)\n",
        "- Using “Crummy” EL Technologies (Tool Design)\n",
        "- Search as Source Selection for the Humanities (Tool Criticism)\n"
      ]
    },
    {
      "cell_type": "markdown",
      "metadata": {
        "id": "pLmXihNkXDDY",
        "colab_type": "text"
      },
      "source": [
        "## Context of WideNet\n"
      ]
    },
    {
      "cell_type": "markdown",
      "metadata": {
        "id": "P1-lMyVoLDZO",
        "colab_type": "text"
      },
      "source": [
        "### Searching for complex concepts with WideNet\n",
        "\n",
        "The creation of WideNet started with specific historical research questions: how do politicians today refer to the past? how is history reimagined and used in contemporary political discourses?\n",
        "\n",
        "Particularly, we were interested in when and how Dutch parliamentarians mention the so-called Dutch \"\"[Golden Age](https://en.wikipedia.org/wiki/Dutch_Golden_Age)\" in their speeches. "
      ]
    },
    {
      "cell_type": "markdown",
      "metadata": {
        "id": "Np3uAMpOKjCH",
        "colab_type": "text"
      },
      "source": [
        "Historical eras are complex concepts in many ways: \n",
        "they comprise a wide range of individual events, people, locations etc. Moreover, they are unstable constructs, since historians are likely to disagree on their scope and content.\n",
        "\n",
        "This raises various methodological issues: how to search for these concepts? how to search for mention of the past?\n",
        "\n",
        "WideNet was built as a tool to tackle these problems."
      ]
    },
    {
      "cell_type": "markdown",
      "metadata": {
        "id": "jJhbXMsCM7CE",
        "colab_type": "text"
      },
      "source": [
        "### Complex concepts: an example\n",
        "\n",
        "To better understand why we model \"events\" or \"periods\" as complex concepts, have a look at the painting below.\n",
        "\n",
        "<img src=\"https://upload.wikimedia.org/wikipedia/commons/1/1c/Helst%2C_Peace_of_M%C3%BCnster.jpg\"> "
      ]
    },
    {
      "cell_type": "markdown",
      "metadata": {
        "id": "aPDofsW7NfFc",
        "colab_type": "text"
      },
      "source": [
        "Imagine, you want to find speeches related to this painting. The painting shows--in Dutch-- “Schuttersmaaltijd ter viering van de Vrede van Munster” and was made by Bartholomeus van der Helst in 1648.\n",
        "It depicts the shooter’s guild celebrating the Peace of Munster.\n",
        "\n",
        "The task (searching for talk about the past) would require a reconstruction of the narrative (or scene). We would need to meaningfully combine all the depicted entities (persons, object, events etc).\n",
        "\n",
        "\n",
        "Even as a single and micro-event it contains references to many different entities. \n",
        "- It’s located in **Amsterdam**, as suggested by flag carried by the ensign Jacob Baning, which shows the maiden of Amsterdam (also note the buildings which can be seen through the window).\n",
        "- Other **characters** play a role in this scene, such as Witsen and Van Waveren, shaking hands on the right. \n",
        "The drum, in turn, has a few lines of poetry written on it by Jan Vos, which praises an everlasting covenant.\n",
        "\n",
        "Ideally, to find relevant information, our search engine should generate a partial reconstruction of this scene.\n"
      ]
    },
    {
      "cell_type": "markdown",
      "metadata": {
        "id": "-GIGdcwAOjEl",
        "colab_type": "text"
      },
      "source": [
        "### Complex concepts: running example (Dutch Golden Age)\n",
        "\n",
        "<img src=\"https://raw.githubusercontent.com/kasparvonbeelen/dh2019-SCE-workshop/master/Screenshot%202019-07-06%20at%2013.21.51.png\"/>\n",
        "\n",
        "Inspired by this example, we applied entity-linking to retrieve documents related to larger historical periods, such as the Dutch Golden Age. This concept can be treated as a **container** which holds many entities\n",
        "\n",
        "- **Synod of Dordrecht**, which attempted to end the religious controversy in the Republic between Remonstrants (Arminians) and Contraremonstrants (Gomarists),\n",
        "- The emergence of **capitalism** in to form of a Stock Exchange in Amsterdam in 1609\n",
        "- The expanding **international trade** exemplified by companies such as the Vereenigde Oostindische Compagnie (the Dutch East India Company)\n",
        "- And of course, individuals related to this period such as the poet, writer and playwright Joost van den Vondel, Huygens etc.\n",
        "\n",
        "To goal of WideNet is to connect a wide variety of references, which are **implicitly part of a complex container concept** (here a time period), but scattered all over the corpus."
      ]
    },
    {
      "cell_type": "markdown",
      "metadata": {
        "id": "KU6gUevHQzz_",
        "colab_type": "text"
      },
      "source": [
        "### Colligatory concepts\n",
        "\n",
        "Historical periods, such as the \"Golden Age\" or \"French Revolution\" are often referred to a **colligatory concepts**. \n",
        "- These concepts are coined by historians in an attempt to make the past understandable; they bind persons, locations, and events into a coherent narrative.\n",
        "\n",
        "- As a result, these representations or narratives are unstable: they change with over time and space, they depend ultimately on the sense-making activity of the researcher.\n",
        "\n"
      ]
    },
    {
      "cell_type": "markdown",
      "metadata": {
        "id": "WXZKriu6S032",
        "colab_type": "text"
      },
      "source": [
        "### Challenges\n",
        "\n",
        "Colligatory concepts are difficult to grasp as objects of information retrieval. WideNet's goal is to enable historians to explore such concepts, using exploratory search. \n",
        "More precisely, WideNet attempts to find these complex concepts by:\n",
        "- going **beyond  keyword search**\n",
        "- providing a convenient interface that presents relevant fragments related to the concept under investigation\n",
        "- helping researchers to **clarify** how they understand the scope of their research (and sculpt their query as a result).\n"
      ]
    },
    {
      "cell_type": "markdown",
      "metadata": {
        "id": "i2WFTn5fSx_j",
        "colab_type": "text"
      },
      "source": [
        "### Challenges: Beyond Keyword Search\n",
        "\n",
        "To probe these challenges a bit further: why are more traditional methods of access (such as keyword search) insufficient? and what does it actually mean to go beyond keywords?\n",
        "\n",
        "Let us return to the leading example of the Dutch golden age (as evoked in parliamentary discourse). The easiest way to find relevant documents would be to simply search for the string “Golden Age”. The result of [this query](http://search.politicalmashup.nl/?query=%20%7B%22page%22:1,%22debug%22:false,%22useRegexQuery%22:false,%22regexQuery%22:%22%22,%22query%22:%22%5C%22Gouden%20Eeuw%5C%22%22,%22downloadAmount%22:1000,%22selectedCollection%22:%22Netherlands%22,%22selectedDocType%22:%22Speech%22,%22selectedOrder%22:%22Relevance%22,%22excludedPartiesTags%22:%5B%5D,%22excludedSpeakersTags%22:%5B%5D,%22selectedSpeakersTags%22:%5B%5D,%22selectedPartiesTags%22:%5B%5D,%22partyFacets%22:%7B%7D,%22speakerFacets%22:%7B%7D,%22houseFacets%22:%7B%7D,%22categoryFacets%22:%7B%7D,%22dossierFacets%22:%7B%7D,%22roleFacets%22:%7B%7D,%22excludedParties%22:%7B%7D,%22excludedSpeakers%22:%7B%7D,%22sliderYearMin%22:1800,%22sliderYearMax%22:2018,%22dateStart%22:%221995-12-31T23:58:45.000Z%22,%22dateEnd%22:%222018-01-01T00:00:00.000Z%22,%22docType%22:%22speech%22,%22searchTopicTitleOnly%22:false,%22searchClicked%22:true,%22advancedSearchOpened%22:true,%22graphsOpened%22:false,%22yearFacets%22:%7B%7D%7D) is shown below:\n",
        "\n",
        "<img src=\"https://raw.githubusercontent.com/kasparvonbeelen/dh2019-SCE-workshop/master/Screenshot%202019-07-06%20at%2013.47.10.png\">\n",
        "\n",
        "\n",
        "As you can see, this query doesn’t return many hits.\n",
        "More importantly, as mentioned earlier, there is a difference between the **sequence of characters** “Golden Age” and the **concept** (the container of entities related to this period). The simple keyword search misses therefore many potentially relevant documents.\n"
      ]
    },
    {
      "cell_type": "markdown",
      "metadata": {
        "id": "2B4j6a88VILz",
        "colab_type": "text"
      },
      "source": [
        "Of course, composing very intricate boolean queries would be one workaround. The query itself then would contain a wide variety of elements, such as persons, event, organisation or architecture.\n",
        "For sure one could spend hours trying to formulate a query that includes all these elements. But as the figure below suggests, this is neither elegant nor effective. \n",
        "\n",
        "\n",
        "\n",
        "\n",
        "<img src=\"https://raw.githubusercontent.com/kasparvonbeelen/dh2019-SCE-workshop/master/Screenshot%202019-07-06%20at%2013.49.18.png\">"
      ]
    },
    {
      "cell_type": "markdown",
      "metadata": {
        "id": "ihL3uB5YV33z",
        "colab_type": "text"
      },
      "source": [
        "Even an elaborate boolean keyword search will hardly track the relevant entities, primarily because this approach doesn’t handle the problem of **ambiguity** and **name variation** very well. \n",
        "- A name can refer to different things (for example Erasmus is a philosopher but his name is also attached to a university)\n",
        "- Similarly, one person can be referred to in many different ways, and the spelling of the name may vary. \n",
        "\n",
        "Taken together, it is not impossible to formulate a very complex boolean query, but it doesn't make things easier either.\n",
        "\n",
        "\n"
      ]
    },
    {
      "cell_type": "markdown",
      "metadata": {
        "id": "3Mvxh8cbWffM",
        "colab_type": "text"
      },
      "source": [
        "### Summary\n",
        "\n",
        "We constructed WideNet to partially solve the issues that arise when searching for such complex/colligatory concepts.\n",
        "\n",
        "As we argue in the next section--where we explain the  interface--WideNet allows you to deal with complexity because\n",
        "- instead of searching for a word it will search for documents that contain relevant entities\n",
        "- it takes into account that concepts arise as a result of the sense-making activity of the researcher--and are therefore unstable by definition. Colligatory concepts, specifically, are constructed by historians to interpret the past. \n"
      ]
    },
    {
      "cell_type": "markdown",
      "metadata": {
        "id": "aPQLXXaaWpLX",
        "colab_type": "text"
      },
      "source": [
        "## WideNet Demo\n",
        "\n",
        "WideNet is currently available as a [demo](http://widenet.politicalmashup.nl/dh2017/). Below we explain some of the engineering that drives the backend, and our design choices regarding the interface."
      ]
    },
    {
      "cell_type": "markdown",
      "metadata": {
        "id": "SAy2omfRYUlm",
        "colab_type": "text"
      },
      "source": [
        "### Defining a query (not available in the demo yet)\n",
        "\n",
        "In the first step, the user formulates a query. The thematic query is demarcated by several categories or containers. Which categories are available to do this depends on which knowledge base is used. For our pilot studies we have used DBpedia as the knowledge base, so the user starts by selecting one or several categories using a typeahead search box (top-left). These categories correspond to Wikipedia categories:\n",
        "\n",
        "- The top-right shows the selected categories, which can also be de-selected.\n",
        "- Finally, the user can further demarcate the query by selecting a time period, which will be used to prune the underlying entities of the selected categories\n",
        "\n",
        "\n",
        "<img src=\"https://raw.githubusercontent.com/kasparvonbeelen/dh2019-SCE-workshop/master/Screenshot%202019-07-06%20at%2014.03.31.png\" width=\"170\" height=\"200\">"
      ]
    },
    {
      "cell_type": "markdown",
      "metadata": {
        "id": "twXw5CCIX4s7",
        "colab_type": "text"
      },
      "source": [
        "### Behind the Scenes (Backend)\n",
        "\n",
        "But what happens in the backend after the user defined a concept and  a period?\n",
        "\n",
        "The figure below helps to understand the algorithm at work.\n",
        "\n",
        "<img src=\"https://raw.githubusercontent.com/kasparvonbeelen/dh2019-SCE-workshop/master/Screenshot%202019-07-06%20at%2014.01.56.png\">\n",
        "\n",
        "When the searcher continues from the previous screen (where the root category is defined), our system retrieves the network of narrower categories for each selected category. \n",
        "In DBpedia, this category network appears somewhat messy, because it encodes various viewpoints on how the world is organized, as a result of the diversity of Wikipedia contributors.\n",
        "\n",
        "This example shows that starting from “17th-century Dutch people by occupation”, we find several layers of subcategories that correspond to a taxonomy of professions. But some people are important enough to have their own categories, for instance, the painter Rembrandt, which deviates from the general taxonomy.\n",
        "\n",
        "\n"
      ]
    },
    {
      "cell_type": "markdown",
      "metadata": {
        "id": "zDOWVzHFaymq",
        "colab_type": "text"
      },
      "source": [
        "Oftentimes, even with carefully chosen root categories, there may be underlying categories that do not contain entities that are relevant to the thematic query.\n",
        "\n",
        "Our system addresses the issue by iterating through all subcategories and inspecting all contained entities for temporal clues.\n",
        "Each entity is compared with the target period and is considered to be outright relevant to the period, or not, or a borderline case, or as lacking temporal clues altogether.\n",
        "This information is then used to decide whether the category as a whole is relevant to the thematic query.\n",
        "In this example, the system figures out that most works about Rembrandt are not relevant to the query, because they were created far after the target period.\n",
        "\n",
        "<img src=\"https://raw.githubusercontent.com/kasparvonbeelen/dh2019-SCE-workshop/master/Screenshot%202019-07-06%20at%2014.02.06.png\">\n"
      ]
    },
    {
      "cell_type": "markdown",
      "metadata": {
        "id": "ECQKrPwabbVj",
        "colab_type": "text"
      },
      "source": [
        "#### Recap\n",
        "\n",
        "- WideNet implements automatic query expansion by traversing the category graph of a knowledge base\n",
        "- It exploits the structure of a knowledge base to select relevant entities--on top of which it uses a simple rule-based heuristic to filter entities by timestamp.\n"
      ]
    },
    {
      "cell_type": "markdown",
      "metadata": {
        "id": "jVbFn0dnX6pd",
        "colab_type": "text"
      },
      "source": [
        "### Interface (Frontend)\n",
        "\n",
        "The image below shows the first screen which appears after selecting the root category, the concept of interest (in this case the \"Golden Age\"). The leading example is in Dutch, but don’t worry, we have plenty of English examples, which you can access [here](http://widenet.politicalmashup.nl/dh2017/).\n",
        "\n",
        "\n"
      ]
    },
    {
      "cell_type": "markdown",
      "metadata": {
        "id": "bTpqpaAQ2lCa",
        "colab_type": "text"
      },
      "source": [
        "This screen is called the **preview page**."
      ]
    },
    {
      "cell_type": "markdown",
      "metadata": {
        "id": "y9ZCmp0M1fZ1",
        "colab_type": "text"
      },
      "source": [
        "#### Preview Page\n",
        "\n",
        "<img src=\"https://raw.githubusercontent.com/kasparvonbeelen/dh2019-SCE-workshop/master/Screenshot%202019-07-05%20at%2013.52.35.png\">"
      ]
    },
    {
      "cell_type": "markdown",
      "metadata": {
        "id": "2ujodkd89mT0",
        "colab_type": "text"
      },
      "source": [
        "- **At the bottom** you find the main category related to the root concept (in this case it comprises Dutch-Classicist Architecture). \n",
        "In case the category is irrelevant, you can simply discard it with one click.\n",
        "\n",
        "- But you can make finer distinctions of course. **The left-hand side** of the screen lists entities related to the category. The panel shows which entities have been found, and how frequently they occur. To refine your query, you can individually deselect each of the entities. It also shows a list of the entities that have been searched for but were **not found** in the corpus.\n",
        "\n",
        "- **The centre** of the screen contains the **Preview results**, showing limited context to offer quick clues about the relevance of the category. The preview is useful to identify individual entities that are not relevant after all.\n",
        "For instance, the Dutch name for the “Spanish treasure fleet”, _zilvervloot_, is frequently used in a metaphorical sense. Such entities can be deselected, as marked by the struck-out name and its faded occurrence counter.\n"
      ]
    },
    {
      "cell_type": "markdown",
      "metadata": {
        "id": "UEXCsxeh1xXg",
        "colab_type": "text"
      },
      "source": [
        "#### Close Reading Page\n",
        "\n",
        "<img src=\"https://raw.githubusercontent.com/kasparvonbeelen/dh2019-SCE-workshop/master/Screenshot%202019-07-01%20at%2012.44.17.png\">\n",
        "\n"
      ]
    },
    {
      "cell_type": "markdown",
      "metadata": {
        "id": "dCtPy6AFmGeh",
        "colab_type": "text"
      },
      "source": [
        "When the final selection of relevant categories has been made, the corpus can be searched for the sum of all selected entities.\n",
        "In this screen, the user assesses each result for its relevance, now showing much more context for close reading. On the left we now show the whole list of found entities, still allowing for selection and deselection.\n",
        "For the corpus of parliamentary debates, we show metadata for each result, such as:\n",
        "- debate title\n",
        "- the role and party affiliation of the MP \n",
        "- the date\n",
        "\n"
      ]
    },
    {
      "cell_type": "markdown",
      "metadata": {
        "id": "PJIZ0NsVTF7T",
        "colab_type": "text"
      },
      "source": [
        "## Assignment\n",
        "### Exploring Complex Concepts with WideNet\n"
      ]
    },
    {
      "cell_type": "markdown",
      "metadata": {
        "id": "b6ae58e8TaBL",
        "colab_type": "text"
      },
      "source": [
        "### Aim of the exercise\n",
        "\n",
        "The exercise session consists of a guided WideNet tutorial (ca. 25 minutes) followed by a short discussion (ca. 15 minutes). The aim of the tutorial is to get acquainted with the WideNet interface and learn to sculpt a corpus using a semantically enhanced exploratory search system.  The emphasis here is on **tool criticism** centring on a concrete case-study (the last part of the tutorial is more hands-on). More specifically, please reflect and discuss\n",
        "\n",
        "- How the interface and workflow **support historical research**, i.e. to what extent do the affordances of the interface enable (or complicate) the process of iterative concept definition and corpus building?\n",
        "- How the focus on entities contributes to delineating **colligatory concepts**?\n",
        "- How the **presence (or absence) of specific entities** can be explained in the light of everything you know about entity linking?\n",
        "- How the process of source selection resembles that of **gathering expert annotations**? What can be done with the output of these annotations in terms of concept definition, and constructing knowledge bases?\n",
        "\n"
      ]
    },
    {
      "cell_type": "markdown",
      "metadata": {
        "id": "ynNfBR38Tcj7",
        "colab_type": "text"
      },
      "source": [
        "### Step-by-step\n",
        "\n",
        "Imagine you are a historian (if you are already a historian, just stay who you are) who wants to investigate how parliamentarians have made use of history in their speeches. Also, assume you are a specialist in Canadian politics--this will help you considerably with understanding the data. If both features don’t apply to you--i.e. you are, like most present here, neither a historian nor knowledgeable about the peculiar constellation of Canadian party politics--have a quick look at the Wikipedia pages below.\n",
        "\n",
        "- [History of Canada](https://en.wikipedia.org/wiki/History_of_Canada)\n",
        "- [Politics of Canada](https://en.wikipedia.org/wiki/Politics_of_Canada)\n",
        "\n",
        "Please follow the steps outlined below:\n",
        "\n",
        "- Select a topic of interest from the [demo](http://widenet.politicalmashup.nl/dh2017/) site one the Dutch example ([\"Golden Age\"](http://widenet.politicalmashup.nl/nl/preview/ge/), [\"Second World War\"](http://widenet.politicalmashup.nl/nl/preview/wo2/)). We prepared multiple WideNet queries based on the parliamentary data from Canada and the Netherlands. Of course, you can also compare specific queries.\n",
        "- Behind each of these queries hide a substantial number of speeches. To avoid clicking through loads of speeches, it may help to formulate a question or hypothesis that will guide you when working your way through the data. Put differently, before you start, try to come up with a set of guidelines that explicate your “aboutness” criteria for individual documents.\n",
        "- After selecting the target query, the preview stage opens. As told during the presentation, here you can assess the relevance of each category as a whole, and/or refine the selection by included (or discarding) specific entities. \n",
        "- Experiment with selecting and deselecting categories and entities. The concordances located at the centre of the screen provide minimal context to help you make an informed decision. \n",
        "- When clicking through the categories, keep track of how your selection criteria (and thus your understanding of the concept under investigation) evolve. Is there any pattern in the entities that are informative?\n",
        "- Don’t forget to expand the “Not found” and “Other entities” tabs at the bottom left-hand side of the screen; assess the value of the missing entities, is their absence historically interesting, or just an artefact of the entity linker we used? You can independently interrogate the data using the political mashup search interface. \n",
        "- After selecting entities and categories, carefully inspect the individual documents that resulted from your previous choices. Please note that you can further refine the set of entities, by (de)selecting them. \n",
        "- At the end of the road, store the data as JSON (click “Relevant Speeches”)! You will need this for later.\n",
        "\n"
      ]
    },
    {
      "cell_type": "markdown",
      "metadata": {
        "id": "znfNTF0qTfKm",
        "colab_type": "text"
      },
      "source": [
        "### Discussion\n",
        "\n",
        "Please reflect on the questions below (you type your notes in the Text cell--simply double click on the question)\n",
        "\n",
        "\n"
      ]
    },
    {
      "cell_type": "markdown",
      "metadata": {
        "id": "G1Sb7mZXUi1P",
        "colab_type": "text"
      },
      "source": [
        "1 How does the WideNet idea fit with Digital Humanities? As opposed to prevailing trends, WideNet is not focussed on distant reading but offers a digital tool for exploration and corpus selection. "
      ]
    },
    {
      "cell_type": "markdown",
      "metadata": {
        "id": "_5p_k6PUwJDn",
        "colab_type": "text"
      },
      "source": [
        " \n",
        "  **Write your answer here**"
      ]
    },
    {
      "cell_type": "markdown",
      "metadata": {
        "id": "4peWTwr4UkTm",
        "colab_type": "text"
      },
      "source": [
        "2 How helpful is the entity-based exploratory search for exploring complex concepts? What type of information becomes visible, which parts of the corpus remain in the dark? \n"
      ]
    },
    {
      "cell_type": "markdown",
      "metadata": {
        "id": "-_TFTInGwWeK",
        "colab_type": "text"
      },
      "source": [
        " \n",
        "  **Write your answer here**"
      ]
    },
    {
      "cell_type": "markdown",
      "metadata": {
        "id": "CNR2DvWsUloC",
        "colab_type": "text"
      },
      "source": [
        "3 Which functionalities were useful? What could be improved?"
      ]
    },
    {
      "cell_type": "markdown",
      "metadata": {
        "id": "v56FAlHmwcyu",
        "colab_type": "text"
      },
      "source": [
        " \n",
        "  **Write your answer here**"
      ]
    }
  ]
}