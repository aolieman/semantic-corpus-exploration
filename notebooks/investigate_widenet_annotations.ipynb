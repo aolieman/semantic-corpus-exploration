{
  "nbformat": 4,
  "nbformat_minor": 0,
  "metadata": {
    "colab": {
      "name": "investigate-widenet-annotations.ipynb",
      "version": "0.3.2",
      "provenance": [],
      "collapsed_sections": [],
      "toc_visible": true,
      "include_colab_link": true
    },
    "kernelspec": {
      "name": "python3",
      "display_name": "Python 3"
    }
  },
  "cells": [
    {
      "cell_type": "markdown",
      "metadata": {
        "id": "view-in-github",
        "colab_type": "text"
      },
      "source": [
        "<a href=\"https://colab.research.google.com/github/aolieman/semantic-corpus-exploration/blob/master/notebooks/investigate_widenet_annotations.ipynb\" target=\"_parent\"><img src=\"https://colab.research.google.com/assets/colab-badge.svg\" alt=\"Open In Colab\"/></a>"
      ]
    },
    {
      "cell_type": "markdown",
      "metadata": {
        "id": "rt6p8YR-KKz1",
        "colab_type": "text"
      },
      "source": [
        "# Exploring WideNet Annotations\n",
        "\n",
        "WideNet's main purpose is to help historians selecting sources based on the entities these documents contain. At the end of the previous exercise, you should have been able to save your annotations as a JSON file. At the moment, WideNet doesn't offer any tools to further investigate and refine the annotations of your corpus. Therefore, we created an exploratory Notebook with a few tools that help you to interrogate your sources in more detail. More precisely, we show you how to: \n",
        "\n",
        "1. Convert the JSON output to a Pandas DataFrame\n",
        "2. Plot the results\n",
        "3. Refine the selection of your sources by specific keywords\n",
        "4. Annotate the data using a personal set of labels\n",
        "\n",
        "**If you have questions, please contact me via Skype (name=kasparvonbeelen)**"
      ]
    },
    {
      "cell_type": "markdown",
      "metadata": {
        "id": "OynvRSkEbxqL",
        "colab_type": "text"
      },
      "source": [
        "## Colab\n",
        "\n",
        "The page in front of you is a Colab Notebook. It contains a sequence of text (white) and code (light grey) cells. Code cells allow you to run actual Python code.  You can run a Code cell (as the one below) by either holding the `CTRL + Enter` keys on your keyboard or pressing the \"play\" button at the left-hand side of the cell.\n",
        "\n",
        "Please note: If you open this file from a link you only have \"read\" access. To run the code, click \"Open Playground\" at the top-left of your screen.\n",
        "\n",
        "Try to run the code below, it should print \"Hoooray\" if everything goes according to plan!"
      ]
    },
    {
      "cell_type": "code",
      "metadata": {
        "id": "Qy2BtC9nUhrK",
        "colab_type": "code",
        "outputId": "5a3d2c7c-a96c-4107-8d77-3c86981cf471",
        "colab": {
          "base_uri": "https://localhost:8080/",
          "height": 34
        }
      },
      "source": [
        "import pandas as pd\n",
        "import json\n",
        "print(\"Hoooray. Done running import statements\")"
      ],
      "execution_count": 0,
      "outputs": [
        {
          "output_type": "stream",
          "text": [
            "Hoooray. Done running import statements\n"
          ],
          "name": "stdout"
        }
      ]
    },
    {
      "cell_type": "markdown",
      "metadata": {
        "id": "QFJSMcd9XqzU",
        "colab_type": "text"
      },
      "source": [
        "## Loading data from a URL\n",
        "\n",
        "Colab allows you to import data in different ways. The easiest way is to use a URL pointing to an online dataset. For the purpose of this tutorial, we use the output from a very short query covering the [Great Depression in Canada](http://widenet.politicalmashup.nl/ca/preview/great-depression-in-canada/). \n",
        "\n",
        "If you just want to run whole the Notebook--to understand what happens at each stage--we suggest you use this example, but feel free to experiment with your own annotations of course!\n",
        "\n"
      ]
    },
    {
      "cell_type": "code",
      "metadata": {
        "id": "gmupLZKZZbz3",
        "colab_type": "code",
        "outputId": "88b69688-c748-40c4-88dc-6a191962f3f7",
        "colab": {
          "base_uri": "https://localhost:8080/",
          "height": 652
        }
      },
      "source": [
        "import requests\n",
        "json_data = requests.get(\"https://raw.githubusercontent.com/kasparvonbeelen/CTH2019/master/data/relevant_speeches.json\").json()\n",
        "df = pd.DataFrame(json_data['speeches'])\n",
        "df.head()"
      ],
      "execution_count": 0,
      "outputs": [
        {
          "output_type": "execute_result",
          "data": {
            "text/html": [
              "<div>\n",
              "<style scoped>\n",
              "    .dataframe tbody tr th:only-of-type {\n",
              "        vertical-align: middle;\n",
              "    }\n",
              "\n",
              "    .dataframe tbody tr th {\n",
              "        vertical-align: top;\n",
              "    }\n",
              "\n",
              "    .dataframe thead th {\n",
              "        text-align: right;\n",
              "    }\n",
              "</style>\n",
              "<table border=\"1\" class=\"dataframe\">\n",
              "  <thead>\n",
              "    <tr style=\"text-align: right;\">\n",
              "      <th></th>\n",
              "      <th>categories</th>\n",
              "      <th>date</th>\n",
              "      <th>house</th>\n",
              "      <th>id</th>\n",
              "      <th>matching_links</th>\n",
              "      <th>party</th>\n",
              "      <th>role</th>\n",
              "      <th>speaker</th>\n",
              "      <th>text</th>\n",
              "      <th>topic</th>\n",
              "    </tr>\n",
              "  </thead>\n",
              "  <tbody>\n",
              "    <tr>\n",
              "      <th>0</th>\n",
              "      <td>[]</td>\n",
              "      <td>1999-03-09</td>\n",
              "      <td>None</td>\n",
              "      <td>ca.proc.d.19990309-880.3.1.36</td>\n",
              "      <td>False</td>\n",
              "      <td>Reform</td>\n",
              "      <td>mp</td>\n",
              "      <td>Ken Epp</td>\n",
              "      <td>Mr. Speaker, I am honoured to stand in the Hou...</td>\n",
              "      <td>Government Orders</td>\n",
              "    </tr>\n",
              "    <tr>\n",
              "      <th>1</th>\n",
              "      <td>[]</td>\n",
              "      <td>1999-03-09</td>\n",
              "      <td>None</td>\n",
              "      <td>ca.proc.d.19990309-880.3.1.49</td>\n",
              "      <td>False</td>\n",
              "      <td>Reform</td>\n",
              "      <td>mp</td>\n",
              "      <td>Diane Ablonczy</td>\n",
              "      <td>Mr. Speaker, we are on the third and final rea...</td>\n",
              "      <td>Government Orders</td>\n",
              "    </tr>\n",
              "    <tr>\n",
              "      <th>2</th>\n",
              "      <td>[]</td>\n",
              "      <td>2001-05-31</td>\n",
              "      <td>None</td>\n",
              "      <td>ca.proc.d.20010531-1893.2.1.9</td>\n",
              "      <td>False</td>\n",
              "      <td>Canadian Alliance</td>\n",
              "      <td>mp</td>\n",
              "      <td>Stockwell Day</td>\n",
              "      <td>Madam Speaker, at the start of my comments I a...</td>\n",
              "      <td>Government Orders</td>\n",
              "    </tr>\n",
              "    <tr>\n",
              "      <th>3</th>\n",
              "      <td>[]</td>\n",
              "      <td>1995-06-19</td>\n",
              "      <td>None</td>\n",
              "      <td>ca.proc.d.19950619-1233.17.1.9</td>\n",
              "      <td>False</td>\n",
              "      <td>Liberal</td>\n",
              "      <td>government</td>\n",
              "      <td>Jean Augustine</td>\n",
              "      <td>Mr. Speaker, I am pleased to participate in th...</td>\n",
              "      <td>Government Orders</td>\n",
              "    </tr>\n",
              "    <tr>\n",
              "      <th>4</th>\n",
              "      <td>[]</td>\n",
              "      <td>1995-11-02</td>\n",
              "      <td>None</td>\n",
              "      <td>ca.proc.d.19951102-1266.5.1.11</td>\n",
              "      <td>False</td>\n",
              "      <td>Liberal</td>\n",
              "      <td>government</td>\n",
              "      <td>George S. Rideout</td>\n",
              "      <td>Madam Speaker, the agreement on international ...</td>\n",
              "      <td>Government Orders</td>\n",
              "    </tr>\n",
              "  </tbody>\n",
              "</table>\n",
              "</div>"
            ],
            "text/plain": [
              "  categories  ...              topic\n",
              "0         []  ...  Government Orders\n",
              "1         []  ...  Government Orders\n",
              "2         []  ...  Government Orders\n",
              "3         []  ...  Government Orders\n",
              "4         []  ...  Government Orders\n",
              "\n",
              "[5 rows x 10 columns]"
            ]
          },
          "metadata": {
            "tags": []
          },
          "execution_count": 12
        }
      ]
    },
    {
      "cell_type": "markdown",
      "metadata": {
        "id": "7_aEhnjRbDNI",
        "colab_type": "text"
      },
      "source": [
        "**Important**: Please ignore the cells below if you want to just run the example (go to **\"Inspecting the DataFrame\"**). Continue if you want to know how to upload your own data, but be warned that some examples may not work."
      ]
    },
    {
      "cell_type": "markdown",
      "metadata": {
        "id": "j4-EOB7_bgQ9",
        "colab_type": "text"
      },
      "source": [
        "## Loading data from your local drive"
      ]
    },
    {
      "cell_type": "markdown",
      "metadata": {
        "id": "TZO7HJXBYx1-",
        "colab_type": "text"
      },
      "source": [
        "If you want to experiment with your own annotations, you can upload them using the `upload()` method below.\n",
        "- Uncomment the code (i.e. delete the hashtags)\n",
        "- Run the code cell \n",
        "- Click on the \"Choose Files\" button\n",
        "- Navigate the \"relevant_speeches.json\" file and click open\n",
        "- **Wait** until upload is done"
      ]
    },
    {
      "cell_type": "code",
      "metadata": {
        "id": "9DC7P-_kKHIk",
        "colab_type": "code",
        "outputId": "eeaa43fa-9ca4-41dc-8083-44ae50a3fa54",
        "colab": {
          "resources": {
            "http://localhost:8080/nbextensions/google.colab/files.js": {
              "data": "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",
              "ok": true,
              "headers": [
                [
                  "content-type",
                  "application/javascript"
                ]
              ],
              "status": 200,
              "status_text": ""
            }
          },
          "base_uri": "https://localhost:8080/",
          "height": 70
        }
      },
      "source": [
        "from google.colab import files\n",
        "uploaded = files.upload()"
      ],
      "execution_count": 0,
      "outputs": [
        {
          "output_type": "display_data",
          "data": {
            "text/html": [
              "\n",
              "     <input type=\"file\" id=\"files-544682de-f874-44ef-b3e9-9b57d04d96f0\" name=\"files[]\" multiple disabled />\n",
              "     <output id=\"result-544682de-f874-44ef-b3e9-9b57d04d96f0\">\n",
              "      Upload widget is only available when the cell has been executed in the\n",
              "      current browser session. Please rerun this cell to enable.\n",
              "      </output>\n",
              "      <script src=\"/nbextensions/google.colab/files.js\"></script> "
            ],
            "text/plain": [
              "<IPython.core.display.HTML object>"
            ]
          },
          "metadata": {
            "tags": []
          }
        },
        {
          "output_type": "stream",
          "text": [
            "Saving relevant_speeches.json to relevant_speeches.json\n"
          ],
          "name": "stdout"
        }
      ]
    },
    {
      "cell_type": "markdown",
      "metadata": {
        "id": "DB_H3teTYHxw",
        "colab_type": "text"
      },
      "source": [
        "The data is saved as a dictionary (a mapping from keys to values). To inspect the uploaded items, apply the `keys()` method attached to the `uploaded` object."
      ]
    },
    {
      "cell_type": "code",
      "metadata": {
        "id": "uej_-_p4YKAp",
        "colab_type": "code",
        "outputId": "3d7245c5-6e59-491b-ad29-dd185fd03f77",
        "colab": {
          "base_uri": "https://localhost:8080/",
          "height": 34
        }
      },
      "source": [
        "uploaded.keys()"
      ],
      "execution_count": 0,
      "outputs": [
        {
          "output_type": "execute_result",
          "data": {
            "text/plain": [
              "dict_keys(['relevant_speeches.json'])"
            ]
          },
          "metadata": {
            "tags": []
          },
          "execution_count": 8
        }
      ]
    },
    {
      "cell_type": "markdown",
      "metadata": {
        "id": "VjTzVlUWY08N",
        "colab_type": "text"
      },
      "source": [
        "We can convert the data to a JSON object..."
      ]
    },
    {
      "cell_type": "code",
      "metadata": {
        "id": "wEU6xzwXY1uD",
        "colab_type": "code",
        "outputId": "f7611995-e78a-4c43-e42d-8519ac22b46d",
        "colab": {
          "base_uri": "https://localhost:8080/",
          "height": 34
        }
      },
      "source": [
        "data = json.loads(uploaded[\"relevant_speeches.json\"])\n",
        "data.keys()"
      ],
      "execution_count": 0,
      "outputs": [
        {
          "output_type": "execute_result",
          "data": {
            "text/plain": [
              "dict_keys(['speeches'])"
            ]
          },
          "metadata": {
            "tags": []
          },
          "execution_count": 9
        }
      ]
    },
    {
      "cell_type": "markdown",
      "metadata": {
        "id": "5x6t44oeZe_2",
        "colab_type": "text"
      },
      "source": [
        "... and ingest it as a pandas.DataFrame. Please inspect the content of the DataFrame (produced by the `.head()` method, which shows the first _n_ lines of the table)"
      ]
    },
    {
      "cell_type": "code",
      "metadata": {
        "id": "qa7ay652L07Q",
        "colab_type": "code",
        "outputId": "2470d9df-bf8f-4361-d56b-5535082b69cb",
        "colab": {
          "base_uri": "https://localhost:8080/",
          "height": 652
        }
      },
      "source": [
        "df = pd.DataFrame(data['speeches'],)\n",
        "df.head()"
      ],
      "execution_count": 0,
      "outputs": [
        {
          "output_type": "execute_result",
          "data": {
            "text/html": [
              "<div>\n",
              "<style scoped>\n",
              "    .dataframe tbody tr th:only-of-type {\n",
              "        vertical-align: middle;\n",
              "    }\n",
              "\n",
              "    .dataframe tbody tr th {\n",
              "        vertical-align: top;\n",
              "    }\n",
              "\n",
              "    .dataframe thead th {\n",
              "        text-align: right;\n",
              "    }\n",
              "</style>\n",
              "<table border=\"1\" class=\"dataframe\">\n",
              "  <thead>\n",
              "    <tr style=\"text-align: right;\">\n",
              "      <th></th>\n",
              "      <th>categories</th>\n",
              "      <th>date</th>\n",
              "      <th>house</th>\n",
              "      <th>id</th>\n",
              "      <th>matching_links</th>\n",
              "      <th>party</th>\n",
              "      <th>role</th>\n",
              "      <th>speaker</th>\n",
              "      <th>text</th>\n",
              "      <th>topic</th>\n",
              "    </tr>\n",
              "  </thead>\n",
              "  <tbody>\n",
              "    <tr>\n",
              "      <th>0</th>\n",
              "      <td>[]</td>\n",
              "      <td>1999-03-09</td>\n",
              "      <td>None</td>\n",
              "      <td>ca.proc.d.19990309-880.3.1.36</td>\n",
              "      <td>False</td>\n",
              "      <td>Reform</td>\n",
              "      <td>mp</td>\n",
              "      <td>Ken Epp</td>\n",
              "      <td>Mr. Speaker, I am honoured to stand in the Hou...</td>\n",
              "      <td>Government Orders</td>\n",
              "    </tr>\n",
              "    <tr>\n",
              "      <th>1</th>\n",
              "      <td>[]</td>\n",
              "      <td>1999-03-09</td>\n",
              "      <td>None</td>\n",
              "      <td>ca.proc.d.19990309-880.3.1.49</td>\n",
              "      <td>False</td>\n",
              "      <td>Reform</td>\n",
              "      <td>mp</td>\n",
              "      <td>Diane Ablonczy</td>\n",
              "      <td>Mr. Speaker, we are on the third and final rea...</td>\n",
              "      <td>Government Orders</td>\n",
              "    </tr>\n",
              "    <tr>\n",
              "      <th>2</th>\n",
              "      <td>[]</td>\n",
              "      <td>2001-05-31</td>\n",
              "      <td>None</td>\n",
              "      <td>ca.proc.d.20010531-1893.2.1.9</td>\n",
              "      <td>False</td>\n",
              "      <td>Canadian Alliance</td>\n",
              "      <td>mp</td>\n",
              "      <td>Stockwell Day</td>\n",
              "      <td>Madam Speaker, at the start of my comments I a...</td>\n",
              "      <td>Government Orders</td>\n",
              "    </tr>\n",
              "    <tr>\n",
              "      <th>3</th>\n",
              "      <td>[]</td>\n",
              "      <td>1995-06-19</td>\n",
              "      <td>None</td>\n",
              "      <td>ca.proc.d.19950619-1233.17.1.9</td>\n",
              "      <td>False</td>\n",
              "      <td>Liberal</td>\n",
              "      <td>government</td>\n",
              "      <td>Jean Augustine</td>\n",
              "      <td>Mr. Speaker, I am pleased to participate in th...</td>\n",
              "      <td>Government Orders</td>\n",
              "    </tr>\n",
              "    <tr>\n",
              "      <th>4</th>\n",
              "      <td>[]</td>\n",
              "      <td>1995-11-02</td>\n",
              "      <td>None</td>\n",
              "      <td>ca.proc.d.19951102-1266.5.1.11</td>\n",
              "      <td>False</td>\n",
              "      <td>Liberal</td>\n",
              "      <td>government</td>\n",
              "      <td>George S. Rideout</td>\n",
              "      <td>Madam Speaker, the agreement on international ...</td>\n",
              "      <td>Government Orders</td>\n",
              "    </tr>\n",
              "  </tbody>\n",
              "</table>\n",
              "</div>"
            ],
            "text/plain": [
              "  categories  ...              topic\n",
              "0         []  ...  Government Orders\n",
              "1         []  ...  Government Orders\n",
              "2         []  ...  Government Orders\n",
              "3         []  ...  Government Orders\n",
              "4         []  ...  Government Orders\n",
              "\n",
              "[5 rows x 10 columns]"
            ]
          },
          "metadata": {
            "tags": []
          },
          "execution_count": 10
        }
      ]
    },
    {
      "cell_type": "markdown",
      "metadata": {
        "id": "47Jzy_OJbSe8",
        "colab_type": "text"
      },
      "source": [
        "## Inspecting DataFrames\n",
        "\n",
        "This section provides a very basic introduction to working with Pandas DataFrames. It explains how to\n",
        "\n",
        "- select a row\n",
        "- select a column\n",
        "- select a cell\n",
        "\n",
        "If you are comfortable with Python and Pandas please ignore this section, and go straight to \"**Plotting data**\""
      ]
    },
    {
      "cell_type": "markdown",
      "metadata": {
        "id": "2gzL7Oj6b59r",
        "colab_type": "text"
      },
      "source": [
        "### Question\n",
        "Run the code below and inspect the content of the DataFrame. Can you understand what type of information is contained in each column? Which columns are interesting for you?"
      ]
    },
    {
      "cell_type": "code",
      "metadata": {
        "id": "yzx64JkGcflw",
        "colab_type": "code",
        "outputId": "1b7d2f13-2a92-4f59-f3eb-2df66f20c646",
        "colab": {
          "base_uri": "https://localhost:8080/",
          "height": 425
        }
      },
      "source": [
        "df.head(3)"
      ],
      "execution_count": 0,
      "outputs": [
        {
          "output_type": "execute_result",
          "data": {
            "text/html": [
              "<div>\n",
              "<style scoped>\n",
              "    .dataframe tbody tr th:only-of-type {\n",
              "        vertical-align: middle;\n",
              "    }\n",
              "\n",
              "    .dataframe tbody tr th {\n",
              "        vertical-align: top;\n",
              "    }\n",
              "\n",
              "    .dataframe thead th {\n",
              "        text-align: right;\n",
              "    }\n",
              "</style>\n",
              "<table border=\"1\" class=\"dataframe\">\n",
              "  <thead>\n",
              "    <tr style=\"text-align: right;\">\n",
              "      <th></th>\n",
              "      <th>categories</th>\n",
              "      <th>date</th>\n",
              "      <th>house</th>\n",
              "      <th>id</th>\n",
              "      <th>matching_links</th>\n",
              "      <th>party</th>\n",
              "      <th>role</th>\n",
              "      <th>speaker</th>\n",
              "      <th>text</th>\n",
              "      <th>topic</th>\n",
              "    </tr>\n",
              "  </thead>\n",
              "  <tbody>\n",
              "    <tr>\n",
              "      <th>0</th>\n",
              "      <td>[]</td>\n",
              "      <td>1999-03-09</td>\n",
              "      <td>None</td>\n",
              "      <td>ca.proc.d.19990309-880.3.1.36</td>\n",
              "      <td>False</td>\n",
              "      <td>Reform</td>\n",
              "      <td>mp</td>\n",
              "      <td>Ken Epp</td>\n",
              "      <td>Mr. Speaker, I am honoured to stand in the Hou...</td>\n",
              "      <td>Government Orders</td>\n",
              "    </tr>\n",
              "    <tr>\n",
              "      <th>1</th>\n",
              "      <td>[]</td>\n",
              "      <td>1999-03-09</td>\n",
              "      <td>None</td>\n",
              "      <td>ca.proc.d.19990309-880.3.1.49</td>\n",
              "      <td>False</td>\n",
              "      <td>Reform</td>\n",
              "      <td>mp</td>\n",
              "      <td>Diane Ablonczy</td>\n",
              "      <td>Mr. Speaker, we are on the third and final rea...</td>\n",
              "      <td>Government Orders</td>\n",
              "    </tr>\n",
              "    <tr>\n",
              "      <th>2</th>\n",
              "      <td>[]</td>\n",
              "      <td>2001-05-31</td>\n",
              "      <td>None</td>\n",
              "      <td>ca.proc.d.20010531-1893.2.1.9</td>\n",
              "      <td>False</td>\n",
              "      <td>Canadian Alliance</td>\n",
              "      <td>mp</td>\n",
              "      <td>Stockwell Day</td>\n",
              "      <td>Madam Speaker, at the start of my comments I a...</td>\n",
              "      <td>Government Orders</td>\n",
              "    </tr>\n",
              "  </tbody>\n",
              "</table>\n",
              "</div>"
            ],
            "text/plain": [
              "  categories  ...              topic\n",
              "0         []  ...  Government Orders\n",
              "1         []  ...  Government Orders\n",
              "2         []  ...  Government Orders\n",
              "\n",
              "[3 rows x 10 columns]"
            ]
          },
          "metadata": {
            "tags": []
          },
          "execution_count": 13
        }
      ]
    },
    {
      "cell_type": "markdown",
      "metadata": {
        "id": "oxnRUwMYcrXq",
        "colab_type": "text"
      },
      "source": [
        "You can select a specific column by index with `.iloc`."
      ]
    },
    {
      "cell_type": "code",
      "metadata": {
        "id": "urLqZi7ocwmR",
        "colab_type": "code",
        "outputId": "be513cdc-5fed-477f-8c2d-618b522b8297",
        "colab": {
          "base_uri": "https://localhost:8080/",
          "height": 202
        }
      },
      "source": [
        "df.iloc[3]"
      ],
      "execution_count": 0,
      "outputs": [
        {
          "output_type": "execute_result",
          "data": {
            "text/plain": [
              "categories                                                       []\n",
              "date                                                     1995-06-19\n",
              "house                                                          None\n",
              "id                                   ca.proc.d.19950619-1233.17.1.9\n",
              "matching_links                                                False\n",
              "party                                                       Liberal\n",
              "role                                                     government\n",
              "speaker                                              Jean Augustine\n",
              "text              Mr. Speaker, I am pleased to participate in th...\n",
              "topic                                             Government Orders\n",
              "Name: 3, dtype: object"
            ]
          },
          "metadata": {
            "tags": []
          },
          "execution_count": 14
        }
      ]
    },
    {
      "cell_type": "markdown",
      "metadata": {
        "id": "bxAmmQu6c2IM",
        "colab_type": "text"
      },
      "source": [
        "Or by position with `.loc`"
      ]
    },
    {
      "cell_type": "code",
      "metadata": {
        "id": "sBpd-slWc49C",
        "colab_type": "code",
        "outputId": "6549d847-8e55-4e40-a9c5-4ca70f67cbd9",
        "colab": {
          "base_uri": "https://localhost:8080/",
          "height": 202
        }
      },
      "source": [
        "df.loc[0]"
      ],
      "execution_count": 0,
      "outputs": [
        {
          "output_type": "execute_result",
          "data": {
            "text/plain": [
              "categories                                                       []\n",
              "date                                                     1999-03-09\n",
              "house                                                          None\n",
              "id                                    ca.proc.d.19990309-880.3.1.36\n",
              "matching_links                                                False\n",
              "party                                                        Reform\n",
              "role                                                             mp\n",
              "speaker                                                     Ken Epp\n",
              "text              Mr. Speaker, I am honoured to stand in the Hou...\n",
              "topic                                             Government Orders\n",
              "Name: 0, dtype: object"
            ]
          },
          "metadata": {
            "tags": []
          },
          "execution_count": 15
        }
      ]
    },
    {
      "cell_type": "markdown",
      "metadata": {
        "id": "dggWkVtPc8lt",
        "colab_type": "text"
      },
      "source": [
        "To select a column use the following syntax (which resembles the retrieval of a value by key as with a Python dictionary)"
      ]
    },
    {
      "cell_type": "code",
      "metadata": {
        "id": "ri0egZnOdG1H",
        "colab_type": "code",
        "outputId": "31621c74-c904-44ab-98d4-4d2df615eea6",
        "colab": {
          "base_uri": "https://localhost:8080/",
          "height": 991
        }
      },
      "source": [
        "df[\"party\"]"
      ],
      "execution_count": 0,
      "outputs": [
        {
          "output_type": "execute_result",
          "data": {
            "text/plain": [
              "0                       Reform\n",
              "1                       Reform\n",
              "2            Canadian Alliance\n",
              "3                      Liberal\n",
              "4                      Liberal\n",
              "5         New Democratic Party\n",
              "6                      Liberal\n",
              "7                      Liberal\n",
              "8         New Democratic Party\n",
              "9               Bloc Québécois\n",
              "10              Bloc Québécois\n",
              "11                      Reform\n",
              "12        New Democratic Party\n",
              "13                     Liberal\n",
              "14                      Reform\n",
              "15                      Reform\n",
              "16              Bloc Québécois\n",
              "17                     Liberal\n",
              "18                      Reform\n",
              "19                      Reform\n",
              "20    Progressive Conservative\n",
              "21                Conservative\n",
              "22                Conservative\n",
              "23                Conservative\n",
              "24                Conservative\n",
              "25              Bloc Québécois\n",
              "26        New Democratic Party\n",
              "27                     Liberal\n",
              "28              Bloc Québécois\n",
              "29              Bloc Québécois\n",
              "30              Bloc Québécois\n",
              "31                      Reform\n",
              "32        New Democratic Party\n",
              "33              Bloc Québécois\n",
              "34                      Reform\n",
              "35                     Liberal\n",
              "36        New Democratic Party\n",
              "37                Conservative\n",
              "38              Bloc Québécois\n",
              "39        New Democratic Party\n",
              "40              Bloc Québécois\n",
              "41                     Liberal\n",
              "42                Conservative\n",
              "43                     Liberal\n",
              "44                Conservative\n",
              "45                Conservative\n",
              "46        New Democratic Party\n",
              "47                     Liberal\n",
              "48        New Democratic Party\n",
              "49        New Democratic Party\n",
              "50                Conservative\n",
              "51                Conservative\n",
              "52                Conservative\n",
              "53                Conservative\n",
              "54                Conservative\n",
              "55                Conservative\n",
              "56                 Green Party\n",
              "Name: party, dtype: object"
            ]
          },
          "metadata": {
            "tags": []
          },
          "execution_count": 16
        }
      ]
    },
    {
      "cell_type": "markdown",
      "metadata": {
        "id": "_gwURW9ydJ6K",
        "colab_type": "text"
      },
      "source": [
        "To select a specific cell, you have to define both the row and column, separated by a comma. The code below returns the party for the fifth row:"
      ]
    },
    {
      "cell_type": "code",
      "metadata": {
        "id": "tchl5A1bdTva",
        "colab_type": "code",
        "outputId": "d1a2116f-813c-4a8a-9381-36a302a43bda",
        "colab": {
          "base_uri": "https://localhost:8080/",
          "height": 34
        }
      },
      "source": [
        "df.loc[4,\"party\"]"
      ],
      "execution_count": 0,
      "outputs": [
        {
          "output_type": "execute_result",
          "data": {
            "text/plain": [
              "'Liberal'"
            ]
          },
          "metadata": {
            "tags": []
          },
          "execution_count": 17
        }
      ]
    },
    {
      "cell_type": "markdown",
      "metadata": {
        "id": "x3iLhvnlu-b3",
        "colab_type": "text"
      },
      "source": [
        "As you notice, the `text` column is cropped, it only show the first n characters of each speech. To view the full speech on the row with index number 3, use the following command."
      ]
    },
    {
      "cell_type": "code",
      "metadata": {
        "id": "uhvOZoW6zgGD",
        "colab_type": "code",
        "outputId": "aff9d8ee-d3aa-4797-dd06-ac868a344e1d",
        "colab": {
          "base_uri": "https://localhost:8080/",
          "height": 54
        }
      },
      "source": [
        "print(df.iloc[3].text)"
      ],
      "execution_count": 0,
      "outputs": [
        {
          "output_type": "stream",
          "text": [
            "Mr. Speaker, I am pleased to participate in this debate on the agreement on internal trade which will come into effect on July 1. The agreement may not be perfect, in response to the Reform Party's comments, but it represents an improvement from where we were before that agreement. Bill C-88 is intended to make it possible for the federal government to comply fully with its obligations under the agreement. It is important the House proceed expeditiously in its consideration of Bill C-88. For years businesses and private sector groups have complained to both the federal and provincial governments about domestic trade barriers and impediments to a free and open internal market. We have had numerous studies going back as far as the 1937 Rowell-Sirois commission which recognized the issue and documented the broad scope of the problem. The Canadian Manufacturers' Association in 1991 estimated the cost associated with barriers and economic inefficiencies to be approximately $6.5 billion annually. The most recent statistics indicate interprovincial exports of goods and services in 1990 were worth $141 billion annually and responsible, directly or indirectly, for 1.7 million jobs. A recent study by the chamber of commerce underlined that the Canadian internal market is the most interdependent of any area in the world today. In agreeing to negotiate the agreement, Canadian governments recognize how well our domestic economy works. It is key to how we will prosper as a nation and how we will compete in the international economy. An open domestic market and economy will allow Canadians and Canadian companies to strengthen their internal competitiveness and develop new opportunities for growth and prosperity. The alternative offers only and ultimately self-destructive protectionism which benefits only special interests at the cost of the country as a whole. When they agreed to negotiate the agreement on internal trade the federal, provincial and territorial governments all recognised and accepted the importance of working together in the national interest. In concluding the agreement Canadian governments have demonstrated they are prepared to work together both now and in the future. As my colleague, the Minister of Industry, has said in the House, the agreement is a consensual agreement. Some members opposite have criticized the agreement as inadequate and insufficient. As I said before, the agreement may not be perfect but it is an improvement over where we were. It reflects a consensus on the principle of an open and efficient national economy. It establishes a detailed rules framework for internal trade. It provides a consistent and defined process for preventing and resolving disputes which may arise over specific issues or measures. All the parties have accepted, to a greater or lesser degree, disciplines which in the sectors covered will improve how the national economy functions in the future. It will be possible and it is the government's intention to work to improve the agreement in the future and to expand its scope and coverage. I call on all colleagues in the House to work together with us as we proceed into the future to expand the scope and coverage of the agreement. For the moment this is a start, a point from which to work. We can and should build on that. Some members have also criticized the government for not exercising its constitutional authority over interprovincial trade to open the internal market more forcibly. The national economy has become considerably more complex than it was when the constitutional powers of the different levels of government were agreed on in 1867. In the context of today's economy and modern Canadian federalism the views of those critics, frankly speaking, are simplistic. If anything is clear it is that the country operates most successfully when all levels of government work co-operatively in the national interest, not unilaterally and certainly not by fiat. Governments were not negotiating constitutional changes in the agreement on internal trade; rather, they were developing the basis for working together with their respective powers and responsibilities to make the national economy operate more efficiently and effectively. Unilateral action may be a theoretically possible method to achieve the same ends. Some of us may consider it to be a desirable way of proceeding. However it is simply not an effective or acceptable way to make Canada's federal system work. Some members opposite have suggested the government has a hidden agenda in Bill C-88, that it conceals a power grab and that it is intended to provide a means to force provinces over to the will of the federal government. That is purely and simply wrong. My colleague, the Minister of Industry, has responded at length and in detail to those allegations. Bill C-88 does not deal with the responsibilities of provinces or provincial measures, only federal responsibilities and measures. It is intended to make it possible for the federal government to comply fully with its own obligations under the agreement and to play its part in making the agreement work. Bill C-88 gives the government specific authority to make changes to certain parts of legislation to enable it to act in accordance with its obligations. It also changes some existing legislation to make it easier for provinces to comply with some of their specific obligations under the agreements. We should be clear in our understanding that Bill C-88 does not by itself legislate or give life to the agreement on internal trade. The agreement has been signed by all its parties: the federal, provincial and territorial governments. When it comes into effect, as agreed on July 1, all those governments will be bound by the obligations of the agreement. Each government is responsible for complying with its obligations and for living up to its responsibilities under the agreement. Two provinces, Alberta and Newfoundland, have already passed their implemented legislation. As I said earlier, it is important that we proceed expeditiously in our consideration of this legislation. The federal government has played a leading role in getting all governments to work together in the interests of all Canadians on internal trade issues. Bill C-88 does what is necessary to ensure the federal level of government will be able to continue to play its role in the co-operative intergovernmental process. We should not delay this further. I call on all colleagues to join with us in ensuring that Bill C-88 gets swift passage through this House.\n"
          ],
          "name": "stdout"
        }
      ]
    },
    {
      "cell_type": "markdown",
      "metadata": {
        "id": "OiAEmNgGdjyb",
        "colab_type": "text"
      },
      "source": [
        "### Question\n",
        "\n",
        "Can you print the full text of the speech on the fifth row?"
      ]
    },
    {
      "cell_type": "code",
      "metadata": {
        "id": "MhqkQ37-dpD_",
        "colab_type": "code",
        "colab": {}
      },
      "source": [
        "# enter code here"
      ],
      "execution_count": 0,
      "outputs": []
    },
    {
      "cell_type": "markdown",
      "metadata": {
        "id": "PeBykBZtcT4Z",
        "colab_type": "text"
      },
      "source": [
        "## Plotting data\n",
        "\n",
        "After converting the JSON output to a Pandas DataFrame, making plots becomes a relatively trivial task. Let's see which party talks most often about the concept you've defined earlier on (when selecting your sources in  WideNet).\n",
        "\n",
        "- First, we count how often each party occurs in the dataset, using the `value_counts()` method, which produces a DataFrame that can easily be visualized using `.plot()`\n",
        "- We use a bar chart (`kind=\"bar\"`) to show the number of speeches by party"
      ]
    },
    {
      "cell_type": "code",
      "metadata": {
        "id": "TFD5ouDqcTGl",
        "colab_type": "code",
        "outputId": "9d4f7a0f-5c79-4075-8e1f-16fb12e68038",
        "colab": {
          "base_uri": "https://localhost:8080/",
          "height": 118
        }
      },
      "source": [
        "# count the number of speeches by party\n",
        "by_party = df.party.value_counts()\n",
        "by_party.head()"
      ],
      "execution_count": 0,
      "outputs": [
        {
          "output_type": "execute_result",
          "data": {
            "text/plain": [
              "Conservative            14\n",
              "Liberal                 11\n",
              "Bloc Québécois          10\n",
              "New Democratic Party    10\n",
              "Reform                   9\n",
              "Name: party, dtype: int64"
            ]
          },
          "metadata": {
            "tags": []
          },
          "execution_count": 19
        }
      ]
    },
    {
      "cell_type": "code",
      "metadata": {
        "id": "_zZl_RMme6tv",
        "colab_type": "code",
        "outputId": "05bfb8c5-af71-43b8-8679-838d27e7d6de",
        "colab": {
          "base_uri": "https://localhost:8080/",
          "height": 402
        }
      },
      "source": [
        "# plot the results\n",
        "by_party.plot(kind=\"bar\")"
      ],
      "execution_count": 0,
      "outputs": [
        {
          "output_type": "execute_result",
          "data": {
            "text/plain": [
              "<matplotlib.axes._subplots.AxesSubplot at 0x7f9d44d6c550>"
            ]
          },
          "metadata": {
            "tags": []
          },
          "execution_count": 20
        },
        {
          "output_type": "display_data",
          "data": {
            "image/png": "[encoded data removed]",
            "text/plain": [
              "<Figure size 432x288 with 1 Axes>"
            ]
          },
          "metadata": {
            "tags": []
          }
        }
      ]
    },
    {
      "cell_type": "markdown",
      "metadata": {
        "id": "Ygzuz1bAfDKi",
        "colab_type": "text"
      },
      "source": [
        "Of course, these results should be normalized (i.e. divided by the total number of speeches for each party). Assuming you are working with the Canadian data (the Great Depression example), we retrieved the total number of speeches by party from the [political mashup search interface](http://search.politicalmashup.nl) and saved it as dictionary below."
      ]
    },
    {
      "cell_type": "code",
      "metadata": {
        "id": "ss-Uh87_T9wj",
        "colab_type": "code",
        "colab": {}
      },
      "source": [
        "part2speechcount= {'Conservative':540251,\n",
        "'Liberal':326107,\n",
        "'New Democratic Party':211723,\n",
        "'Bloc Québécois':113252,\n",
        "'Reform':23014,\n",
        "'Canadian Alliance':20209,\n",
        "'Progressive Conservative':11281,\n",
        "'Green Party':2162}"
      ],
      "execution_count": 0,
      "outputs": []
    },
    {
      "cell_type": "markdown",
      "metadata": {
        "id": "B-ZUy61vtXby",
        "colab_type": "text"
      },
      "source": [
        "The code below converts the dictionary to a pandas DataFrame"
      ]
    },
    {
      "cell_type": "code",
      "metadata": {
        "id": "EB6ajL-ef-iZ",
        "colab_type": "code",
        "outputId": "83b3a3f2-554a-453f-99fd-903f9da3c1c0",
        "colab": {
          "base_uri": "https://localhost:8080/",
          "height": 195
        }
      },
      "source": [
        "p2s_df = pd.DataFrame.from_dict(part2speechcount,orient=\"index\",columns=[\"count\"])\n",
        "p2s_df.head()"
      ],
      "execution_count": 0,
      "outputs": [
        {
          "output_type": "execute_result",
          "data": {
            "text/html": [
              "<div>\n",
              "<style scoped>\n",
              "    .dataframe tbody tr th:only-of-type {\n",
              "        vertical-align: middle;\n",
              "    }\n",
              "\n",
              "    .dataframe tbody tr th {\n",
              "        vertical-align: top;\n",
              "    }\n",
              "\n",
              "    .dataframe thead th {\n",
              "        text-align: right;\n",
              "    }\n",
              "</style>\n",
              "<table border=\"1\" class=\"dataframe\">\n",
              "  <thead>\n",
              "    <tr style=\"text-align: right;\">\n",
              "      <th></th>\n",
              "      <th>count</th>\n",
              "    </tr>\n",
              "  </thead>\n",
              "  <tbody>\n",
              "    <tr>\n",
              "      <th>Conservative</th>\n",
              "      <td>540251</td>\n",
              "    </tr>\n",
              "    <tr>\n",
              "      <th>Liberal</th>\n",
              "      <td>326107</td>\n",
              "    </tr>\n",
              "    <tr>\n",
              "      <th>New Democratic Party</th>\n",
              "      <td>211723</td>\n",
              "    </tr>\n",
              "    <tr>\n",
              "      <th>Bloc Québécois</th>\n",
              "      <td>113252</td>\n",
              "    </tr>\n",
              "    <tr>\n",
              "      <th>Reform</th>\n",
              "      <td>23014</td>\n",
              "    </tr>\n",
              "  </tbody>\n",
              "</table>\n",
              "</div>"
            ],
            "text/plain": [
              "                       count\n",
              "Conservative          540251\n",
              "Liberal               326107\n",
              "New Democratic Party  211723\n",
              "Bloc Québécois        113252\n",
              "Reform                 23014"
            ]
          },
          "metadata": {
            "tags": []
          },
          "execution_count": 22
        }
      ]
    },
    {
      "cell_type": "markdown",
      "metadata": {
        "id": "IUMBcYlZj3fe",
        "colab_type": "text"
      },
      "source": [
        "To compute the relative number of speeches we first merge the two dataframes (i.e.  `by_party` with `p2s_df`). Pandas provides a `.merge()` method, which comes with many arguments. To inspect these arguments, run the cell below."
      ]
    },
    {
      "cell_type": "code",
      "metadata": {
        "id": "aYBeqO0jl0p9",
        "colab_type": "code",
        "outputId": "59d5a5b5-cbc7-461c-f942-7b3680c943c9",
        "colab": {
          "base_uri": "https://localhost:8080/",
          "height": 1000
        }
      },
      "source": [
        "by_party_df = pd.DataFrame(by_party)\n",
        "help(by_party_df.merge)"
      ],
      "execution_count": 0,
      "outputs": [
        {
          "output_type": "stream",
          "text": [
            "Help on method merge in module pandas.core.frame:\n",
            "\n",
            "merge(right, how='inner', on=None, left_on=None, right_on=None, left_index=False, right_index=False, sort=False, suffixes=('_x', '_y'), copy=True, indicator=False, validate=None) method of pandas.core.frame.DataFrame instance\n",
            "    Merge DataFrame or named Series objects with a database-style join.\n",
            "    \n",
            "    The join is done on columns or indexes. If joining columns on\n",
            "    columns, the DataFrame indexes *will be ignored*. Otherwise if joining indexes\n",
            "    on indexes or indexes on a column or columns, the index will be passed on.\n",
            "    \n",
            "    Parameters\n",
            "    ----------\n",
            "    right : DataFrame or named Series\n",
            "        Object to merge with.\n",
            "    how : {'left', 'right', 'outer', 'inner'}, default 'inner'\n",
            "        Type of merge to be performed.\n",
            "    \n",
            "        * left: use only keys from left frame, similar to a SQL left outer join;\n",
            "          preserve key order.\n",
            "        * right: use only keys from right frame, similar to a SQL right outer join;\n",
            "          preserve key order.\n",
            "        * outer: use union of keys from both frames, similar to a SQL full outer\n",
            "          join; sort keys lexicographically.\n",
            "        * inner: use intersection of keys from both frames, similar to a SQL inner\n",
            "          join; preserve the order of the left keys.\n",
            "    on : label or list\n",
            "        Column or index level names to join on. These must be found in both\n",
            "        DataFrames. If `on` is None and not merging on indexes then this defaults\n",
            "        to the intersection of the columns in both DataFrames.\n",
            "    left_on : label or list, or array-like\n",
            "        Column or index level names to join on in the left DataFrame. Can also\n",
            "        be an array or list of arrays of the length of the left DataFrame.\n",
            "        These arrays are treated as if they are columns.\n",
            "    right_on : label or list, or array-like\n",
            "        Column or index level names to join on in the right DataFrame. Can also\n",
            "        be an array or list of arrays of the length of the right DataFrame.\n",
            "        These arrays are treated as if they are columns.\n",
            "    left_index : bool, default False\n",
            "        Use the index from the left DataFrame as the join key(s). If it is a\n",
            "        MultiIndex, the number of keys in the other DataFrame (either the index\n",
            "        or a number of columns) must match the number of levels.\n",
            "    right_index : bool, default False\n",
            "        Use the index from the right DataFrame as the join key. Same caveats as\n",
            "        left_index.\n",
            "    sort : bool, default False\n",
            "        Sort the join keys lexicographically in the result DataFrame. If False,\n",
            "        the order of the join keys depends on the join type (how keyword).\n",
            "    suffixes : tuple of (str, str), default ('_x', '_y')\n",
            "        Suffix to apply to overlapping column names in the left and right\n",
            "        side, respectively. To raise an exception on overlapping columns use\n",
            "        (False, False).\n",
            "    copy : bool, default True\n",
            "        If False, avoid copy if possible.\n",
            "    indicator : bool or str, default False\n",
            "        If True, adds a column to output DataFrame called \"_merge\" with\n",
            "        information on the source of each row.\n",
            "        If string, column with information on source of each row will be added to\n",
            "        output DataFrame, and column will be named value of string.\n",
            "        Information column is Categorical-type and takes on a value of \"left_only\"\n",
            "        for observations whose merge key only appears in 'left' DataFrame,\n",
            "        \"right_only\" for observations whose merge key only appears in 'right'\n",
            "        DataFrame, and \"both\" if the observation's merge key is found in both.\n",
            "    \n",
            "    validate : str, optional\n",
            "        If specified, checks if merge is of specified type.\n",
            "    \n",
            "        * \"one_to_one\" or \"1:1\": check if merge keys are unique in both\n",
            "          left and right datasets.\n",
            "        * \"one_to_many\" or \"1:m\": check if merge keys are unique in left\n",
            "          dataset.\n",
            "        * \"many_to_one\" or \"m:1\": check if merge keys are unique in right\n",
            "          dataset.\n",
            "        * \"many_to_many\" or \"m:m\": allowed, but does not result in checks.\n",
            "    \n",
            "        .. versionadded:: 0.21.0\n",
            "    \n",
            "    Returns\n",
            "    -------\n",
            "    DataFrame\n",
            "        A DataFrame of the two merged objects.\n",
            "    \n",
            "    See Also\n",
            "    --------\n",
            "    merge_ordered : Merge with optional filling/interpolation.\n",
            "    merge_asof : Merge on nearest keys.\n",
            "    DataFrame.join : Similar method using indices.\n",
            "    \n",
            "    Notes\n",
            "    -----\n",
            "    Support for specifying index levels as the `on`, `left_on`, and\n",
            "    `right_on` parameters was added in version 0.23.0\n",
            "    Support for merging named Series objects was added in version 0.24.0\n",
            "    \n",
            "    Examples\n",
            "    --------\n",
            "    \n",
            "    >>> df1 = pd.DataFrame({'lkey': ['foo', 'bar', 'baz', 'foo'],\n",
            "    ...                     'value': [1, 2, 3, 5]})\n",
            "    >>> df2 = pd.DataFrame({'rkey': ['foo', 'bar', 'baz', 'foo'],\n",
            "    ...                     'value': [5, 6, 7, 8]})\n",
            "    >>> df1\n",
            "        lkey value\n",
            "    0   foo      1\n",
            "    1   bar      2\n",
            "    2   baz      3\n",
            "    3   foo      5\n",
            "    >>> df2\n",
            "        rkey value\n",
            "    0   foo      5\n",
            "    1   bar      6\n",
            "    2   baz      7\n",
            "    3   foo      8\n",
            "    \n",
            "    Merge df1 and df2 on the lkey and rkey columns. The value columns have\n",
            "    the default suffixes, _x and _y, appended.\n",
            "    \n",
            "    >>> df1.merge(df2, left_on='lkey', right_on='rkey')\n",
            "      lkey  value_x rkey  value_y\n",
            "    0  foo        1  foo        5\n",
            "    1  foo        1  foo        8\n",
            "    2  foo        5  foo        5\n",
            "    3  foo        5  foo        8\n",
            "    4  bar        2  bar        6\n",
            "    5  baz        3  baz        7\n",
            "    \n",
            "    Merge DataFrames df1 and df2 with specified left and right suffixes\n",
            "    appended to any overlapping columns.\n",
            "    \n",
            "    >>> df1.merge(df2, left_on='lkey', right_on='rkey',\n",
            "    ...           suffixes=('_left', '_right'))\n",
            "      lkey  value_left rkey  value_right\n",
            "    0  foo           1  foo            5\n",
            "    1  foo           1  foo            8\n",
            "    2  foo           5  foo            5\n",
            "    3  foo           5  foo            8\n",
            "    4  bar           2  bar            6\n",
            "    5  baz           3  baz            7\n",
            "    \n",
            "    Merge DataFrames df1 and df2, but raise an exception if the DataFrames have\n",
            "    any overlapping columns.\n",
            "    \n",
            "    >>> df1.merge(df2, left_on='lkey', right_on='rkey', suffixes=(False, False))\n",
            "    Traceback (most recent call last):\n",
            "    ...\n",
            "    ValueError: columns overlap but no suffix specified:\n",
            "        Index(['value'], dtype='object')\n",
            "\n"
          ],
          "name": "stdout"
        }
      ]
    },
    {
      "cell_type": "markdown",
      "metadata": {
        "id": "zugYDl7ol-0R",
        "colab_type": "text"
      },
      "source": [
        "We have to specify on which columns we want to merge the two data frames. In this case, we use the index column of both data frames (`left_index=True,right_index=True`)"
      ]
    },
    {
      "cell_type": "code",
      "metadata": {
        "id": "6SATOGjcmQLf",
        "colab_type": "code",
        "outputId": "72ec1ee6-f666-4125-a870-fec7c5810c25",
        "colab": {
          "base_uri": "https://localhost:8080/",
          "height": 195
        }
      },
      "source": [
        "df_merged = by_party_df.merge(p2s_df,left_index=True,right_index=True)\n",
        "df_merged.columns = ['annotated','total_speeches']\n",
        "df_merged.head()"
      ],
      "execution_count": 0,
      "outputs": [
        {
          "output_type": "execute_result",
          "data": {
            "text/html": [
              "<div>\n",
              "<style scoped>\n",
              "    .dataframe tbody tr th:only-of-type {\n",
              "        vertical-align: middle;\n",
              "    }\n",
              "\n",
              "    .dataframe tbody tr th {\n",
              "        vertical-align: top;\n",
              "    }\n",
              "\n",
              "    .dataframe thead th {\n",
              "        text-align: right;\n",
              "    }\n",
              "</style>\n",
              "<table border=\"1\" class=\"dataframe\">\n",
              "  <thead>\n",
              "    <tr style=\"text-align: right;\">\n",
              "      <th></th>\n",
              "      <th>annotated</th>\n",
              "      <th>total_speeches</th>\n",
              "    </tr>\n",
              "  </thead>\n",
              "  <tbody>\n",
              "    <tr>\n",
              "      <th>Conservative</th>\n",
              "      <td>14</td>\n",
              "      <td>540251</td>\n",
              "    </tr>\n",
              "    <tr>\n",
              "      <th>Liberal</th>\n",
              "      <td>11</td>\n",
              "      <td>326107</td>\n",
              "    </tr>\n",
              "    <tr>\n",
              "      <th>Bloc Québécois</th>\n",
              "      <td>10</td>\n",
              "      <td>113252</td>\n",
              "    </tr>\n",
              "    <tr>\n",
              "      <th>New Democratic Party</th>\n",
              "      <td>10</td>\n",
              "      <td>211723</td>\n",
              "    </tr>\n",
              "    <tr>\n",
              "      <th>Reform</th>\n",
              "      <td>9</td>\n",
              "      <td>23014</td>\n",
              "    </tr>\n",
              "  </tbody>\n",
              "</table>\n",
              "</div>"
            ],
            "text/plain": [
              "                      annotated  total_speeches\n",
              "Conservative                 14          540251\n",
              "Liberal                      11          326107\n",
              "Bloc Québécois               10          113252\n",
              "New Democratic Party         10          211723\n",
              "Reform                        9           23014"
            ]
          },
          "metadata": {
            "tags": []
          },
          "execution_count": 24
        }
      ]
    },
    {
      "cell_type": "markdown",
      "metadata": {
        "id": "GoPlGbfEq7st",
        "colab_type": "text"
      },
      "source": [
        "This step results in a new DataFrame with two columns: one which tracks the number of annotated speeches, the other one shows the total number of speeches. Now we can simply divide the two columns to compute the percentages."
      ]
    },
    {
      "cell_type": "code",
      "metadata": {
        "id": "vacMyfwGq0nq",
        "colab_type": "code",
        "outputId": "1a8d574d-2934-43c0-f25b-5c404937a2ae",
        "colab": {
          "base_uri": "https://localhost:8080/",
          "height": 402
        }
      },
      "source": [
        "df_merged[\"percentage\"] = (df_merged['annotated'] / df_merged['total_speeches']) * 100\n",
        "df_merged.percentage.plot(rot=90,kind='bar')"
      ],
      "execution_count": 0,
      "outputs": [
        {
          "output_type": "execute_result",
          "data": {
            "text/plain": [
              "<matplotlib.axes._subplots.AxesSubplot at 0x7f9d411a82b0>"
            ]
          },
          "metadata": {
            "tags": []
          },
          "execution_count": 26
        },
        {
          "output_type": "display_data",
          "data": {
            "image/png": "[encoded data removed]",
            "text/plain": [
              "<Figure size 432x288 with 1 Axes>"
            ]
          },
          "metadata": {
            "tags": []
          }
        }
      ]
    },
    {
      "cell_type": "markdown",
      "metadata": {
        "id": "wzoANBqbg9wa",
        "colab_type": "text"
      },
      "source": [
        "A bit more complicated, but equally interesting is to study changes over time by plotting a timeline. Quite a lot happens in the code cell below, but the lines below unpack the procedure a little bit:\n",
        "\n",
        "- line #1: change the data type (`dtype`) of the `date` column (so pandas reads these cells as dates, not strings)\n",
        "- line #2: for each timestamp (one day effectively) count the number of speeches. This step produces a table with the number of speeches by day\n",
        "- line #3: sum the results by year (i.e. sum the number of speeches by year)\n",
        "- line #4: plot the results of the previous step"
      ]
    },
    {
      "cell_type": "code",
      "metadata": {
        "id": "yCx_f-BdgXV4",
        "colab_type": "code",
        "outputId": "9edd5a7b-252e-490e-8790-3ce7b03be8f4",
        "colab": {
          "base_uri": "https://localhost:8080/",
          "height": 286
        }
      },
      "source": [
        "df.date = df.date.astype('datetime64') # convert the date column to datetime\n",
        "by_date = df.date.value_counts() # count the number of speeches for each timestamp\n",
        "by_year = by_date.resample(\"Y\").sum() # group these counts by year and sum them\n",
        "by_year.plot() # plot the results"
      ],
      "execution_count": 0,
      "outputs": [
        {
          "output_type": "execute_result",
          "data": {
            "text/plain": [
              "<matplotlib.axes._subplots.AxesSubplot at 0x7f9d4114cd30>"
            ]
          },
          "metadata": {
            "tags": []
          },
          "execution_count": 27
        },
        {
          "output_type": "display_data",
          "data": {
            "image/png": "[encoded data removed]",
            "text/plain": [
              "<Figure size 432x288 with 1 Axes>"
            ]
          },
          "metadata": {
            "tags": []
          }
        }
      ]
    },
    {
      "cell_type": "markdown",
      "metadata": {
        "id": "uHTNPYQvrTvT",
        "colab_type": "text"
      },
      "source": [
        "## Refining selection by keyword search\n",
        "\n",
        "Besides inspecting the annotations visually, we can zoom in on specific strings and segments. Below we show how you can query the data further,  selecting speeches that contain pre-specified strings. The lambda function `contains_string` returns True if a  text string (a sequence of character) has been found. Here we apply this function to the `text` column, to find speeches that contain the string \"trade\"."
      ]
    },
    {
      "cell_type": "code",
      "metadata": {
        "id": "dw4c0mktMOGt",
        "colab_type": "code",
        "outputId": "55698b20-f746-4043-ec36-9743f9a858f6",
        "colab": {
          "base_uri": "https://localhost:8080/",
          "height": 425
        }
      },
      "source": [
        "contains_string = lambda x,w: True if x.lower().find(w) >= 0 else False\n",
        "df['contains_query'] = df['text'].apply(contains_string,w='trade')\n",
        "df.head(3)"
      ],
      "execution_count": 0,
      "outputs": [
        {
          "output_type": "execute_result",
          "data": {
            "text/html": [
              "<div>\n",
              "<style scoped>\n",
              "    .dataframe tbody tr th:only-of-type {\n",
              "        vertical-align: middle;\n",
              "    }\n",
              "\n",
              "    .dataframe tbody tr th {\n",
              "        vertical-align: top;\n",
              "    }\n",
              "\n",
              "    .dataframe thead th {\n",
              "        text-align: right;\n",
              "    }\n",
              "</style>\n",
              "<table border=\"1\" class=\"dataframe\">\n",
              "  <thead>\n",
              "    <tr style=\"text-align: right;\">\n",
              "      <th></th>\n",
              "      <th>categories</th>\n",
              "      <th>date</th>\n",
              "      <th>house</th>\n",
              "      <th>id</th>\n",
              "      <th>matching_links</th>\n",
              "      <th>party</th>\n",
              "      <th>role</th>\n",
              "      <th>speaker</th>\n",
              "      <th>text</th>\n",
              "      <th>topic</th>\n",
              "      <th>contains_query</th>\n",
              "    </tr>\n",
              "  </thead>\n",
              "  <tbody>\n",
              "    <tr>\n",
              "      <th>0</th>\n",
              "      <td>[]</td>\n",
              "      <td>1999-03-09</td>\n",
              "      <td>None</td>\n",
              "      <td>ca.proc.d.19990309-880.3.1.36</td>\n",
              "      <td>False</td>\n",
              "      <td>Reform</td>\n",
              "      <td>mp</td>\n",
              "      <td>Ken Epp</td>\n",
              "      <td>Mr. Speaker, I am honoured to stand in the Hou...</td>\n",
              "      <td>Government Orders</td>\n",
              "      <td>False</td>\n",
              "    </tr>\n",
              "    <tr>\n",
              "      <th>1</th>\n",
              "      <td>[]</td>\n",
              "      <td>1999-03-09</td>\n",
              "      <td>None</td>\n",
              "      <td>ca.proc.d.19990309-880.3.1.49</td>\n",
              "      <td>False</td>\n",
              "      <td>Reform</td>\n",
              "      <td>mp</td>\n",
              "      <td>Diane Ablonczy</td>\n",
              "      <td>Mr. Speaker, we are on the third and final rea...</td>\n",
              "      <td>Government Orders</td>\n",
              "      <td>False</td>\n",
              "    </tr>\n",
              "    <tr>\n",
              "      <th>2</th>\n",
              "      <td>[]</td>\n",
              "      <td>2001-05-31</td>\n",
              "      <td>None</td>\n",
              "      <td>ca.proc.d.20010531-1893.2.1.9</td>\n",
              "      <td>False</td>\n",
              "      <td>Canadian Alliance</td>\n",
              "      <td>mp</td>\n",
              "      <td>Stockwell Day</td>\n",
              "      <td>Madam Speaker, at the start of my comments I a...</td>\n",
              "      <td>Government Orders</td>\n",
              "      <td>False</td>\n",
              "    </tr>\n",
              "  </tbody>\n",
              "</table>\n",
              "</div>"
            ],
            "text/plain": [
              "  categories       date  ...              topic contains_query\n",
              "0         [] 1999-03-09  ...  Government Orders          False\n",
              "1         [] 1999-03-09  ...  Government Orders          False\n",
              "2         [] 2001-05-31  ...  Government Orders          False\n",
              "\n",
              "[3 rows x 11 columns]"
            ]
          },
          "metadata": {
            "tags": []
          },
          "execution_count": 28
        }
      ]
    },
    {
      "cell_type": "markdown",
      "metadata": {
        "id": "HWbrJ8WivjJo",
        "colab_type": "text"
      },
      "source": [
        "To inspect the speeches that contain the string \"trade\" we can select the rows for which the value of `contains_query` is equal to `True` (df.contains_query==True). We save these rows in the `about_trade` variable. The `.shape` attribute tells us how many rows and columns the data frame contains after querying it by content.\n",
        "\n"
      ]
    },
    {
      "cell_type": "code",
      "metadata": {
        "id": "oOic1KfUw2P-",
        "colab_type": "code",
        "outputId": "fbab813c-a57a-4756-9831-b575920411b0",
        "colab": {
          "base_uri": "https://localhost:8080/",
          "height": 34
        }
      },
      "source": [
        "about_trade = df[df.contains_query==True]\n",
        "print(about_trade.shape)"
      ],
      "execution_count": 0,
      "outputs": [
        {
          "output_type": "stream",
          "text": [
            "(13, 11)\n"
          ],
          "name": "stdout"
        }
      ]
    },
    {
      "cell_type": "markdown",
      "metadata": {
        "id": "YYcBKBYBxdBt",
        "colab_type": "text"
      },
      "source": [
        "To read these speeches more in depth, you can use the `focus_on` function below. It allows you to formulate a regular expression as a query (instead of just a text string). For example, we can focus on the word \"trade\" by defining text boundaries (marked by `\\b` (the word boundary character)) as shown in the example below:"
      ]
    },
    {
      "cell_type": "code",
      "metadata": {
        "id": "YHG9xEEU4mOS",
        "colab_type": "code",
        "colab": {}
      },
      "source": [
        "import re\n",
        "def focus_on(text, query, context):\n",
        "  \"\"\"Give n\n",
        "  \n",
        "  \"\"\"\n",
        "  text = ' '*context + text.lower() + ' '*context\n",
        "  hits = []\n",
        "  index = re.search(query,text,re.IGNORECASE)\n",
        "  \n",
        "  while hasattr(index,'start'):\n",
        "    index = index.start()\n",
        "    hits.append(text[index - context:index+len(query)+context])\n",
        "    text = text[index+1:]\n",
        "    index = re.search(query,text)\n",
        "    \n",
        "  return hits"
      ],
      "execution_count": 0,
      "outputs": []
    },
    {
      "cell_type": "code",
      "metadata": {
        "id": "50idED_w914X",
        "colab_type": "code",
        "outputId": "db280933-4d07-4dc4-e260-da0286cb58b1",
        "colab": {
          "base_uri": "https://localhost:8080/",
          "height": 171
        }
      },
      "source": [
        "text = about_trade.iloc[0].text\n",
        "focus_on(text,r\"\\btrade\\b\",50)"
      ],
      "execution_count": 0,
      "outputs": [
        {
          "output_type": "execute_result",
          "data": {
            "text/plain": [
              "['ipate in this debate on the agreement on internal trade which will come into effect on july 1. the agreement ',\n",
              " 'federal and provincial governments about domestic trade barriers and impediments to a free and open internal ',\n",
              " 'hey agreed to negotiate the agreement on internal trade the federal, provincial and territorial governments a',\n",
              " 'tablishes a detailed rules framework for internal trade. it provides a consistent and defined process for pre',\n",
              " 'its constitutional authority over interprovincial trade to open the internal market more forcibly. the nation',\n",
              " 'nstitutional changes in the agreement on internal trade; rather, they were developing the basis for working t',\n",
              " 'gislate or give life to the agreement on internal trade. the agreement has been signed by all its parties: th',\n",
              " 'her in the interests of all canadians on internal trade issues. bill c-88 does what is necessary to ensure th']"
            ]
          },
          "metadata": {
            "tags": []
          },
          "execution_count": 31
        }
      ]
    },
    {
      "cell_type": "markdown",
      "metadata": {
        "id": "cRTm5nZc-Ott",
        "colab_type": "text"
      },
      "source": [
        "Using regular expressions we can also add a wildcard (`*`) to match all variations on the word \"goverm*\". You can change the number of character shown before and after the query with the `context` argument."
      ]
    },
    {
      "cell_type": "code",
      "metadata": {
        "id": "m_183sBA-bP3",
        "colab_type": "code",
        "outputId": "acd5de31-0331-4c37-a569-3e6d268c2b35",
        "colab": {
          "base_uri": "https://localhost:8080/",
          "height": 353
        }
      },
      "source": [
        "text = about_trade.iloc[0].text\n",
        "focus_on(text,r\"\\bgover[A-Za-z]*\",context=25)"
      ],
      "execution_count": 0,
      "outputs": [
        {
          "output_type": "execute_result",
          "data": {
            "text/plain": [
              "['possible for the federal government to comply fully with its oblig',\n",
              " 'e federal and provincial governments about domestic trade barriers',\n",
              " ' the agreement, canadian governments recognize how well our domest',\n",
              " 'ovincial and territorial governments all recognised and accepted t',\n",
              " 'g the agreement canadian governments have demonstrated they are pr',\n",
              " \"e possible and it is the government's intention to work to improve\",\n",
              " 'have also criticized the government for not exercising its constit',\n",
              " ' the different levels of government were agreed on in 1867. in the',\n",
              " 'fully when all levels of government work co-operatively in the nat',\n",
              " 'd certainly not by fiat. governments were not negotiating constitu',\n",
              " 'osite have suggested the government has a hidden agenda in bill c-',\n",
              " ' the will of the federal government. that is purely and simply wro',\n",
              " 'possible for the federal government to comply fully with its own o',\n",
              " 'ork. bill c-88 gives the government specific authority to make cha',\n",
              " 'ovincial and territorial governments. when it comes into effect, a',\n",
              " 'eed on july 1, all those governments will be bound by the obligati',\n",
              " 's of the agreement. each government is responsible for complying w',\n",
              " 'legislation. the federal government has played a leading role in g',\n",
              " 'ding role in getting all governments to work together in the inter',\n",
              " 'ure the federal level of government will be able to continue to pl']"
            ]
          },
          "metadata": {
            "tags": []
          },
          "execution_count": 33
        }
      ]
    },
    {
      "cell_type": "markdown",
      "metadata": {
        "id": "b2mreryMxXUR",
        "colab_type": "text"
      },
      "source": [
        "In Pandas we can easily apply this function to all the rows in our data frame to find all speeches that match our pattern of interest, for example:"
      ]
    },
    {
      "cell_type": "code",
      "metadata": {
        "id": "_ixFf2ej_bl2",
        "colab_type": "code",
        "colab": {}
      },
      "source": [
        "df['has_pattern'] = df.text.apply(focus_on,query=r\"\\bgover[A-Za-z]*\",context=50)\n",
        "df.head()"
      ],
      "execution_count": 0,
      "outputs": []
    },
    {
      "cell_type": "markdown",
      "metadata": {
        "id": "ZimFl7yAAeqT",
        "colab_type": "text"
      },
      "source": [
        "You can also search for multiple items at once with regular expressions, but we'll leave it up to you to find out how!"
      ]
    },
    {
      "cell_type": "markdown",
      "metadata": {
        "id": "XjJLg_xwABCe",
        "colab_type": "text"
      },
      "source": [
        "## Annotations\n",
        "\n",
        "Currently, WideNet allows you to judge each speech as relevant or not. It is not possible, however, to further annotate your data, i.e. categorize texts according to a specified set of labels. To help you with this task, this Notebook offers a very simple annotation interface called [\"Pigeon\"](https://github.com/agermanidis/pigeon). Run the code below to install this library."
      ]
    },
    {
      "cell_type": "code",
      "metadata": {
        "id": "3QGPSYGIPR8u",
        "colab_type": "code",
        "outputId": "5bc3a1ba-049c-4263-dc64-6e40c75abd9a",
        "colab": {
          "base_uri": "https://localhost:8080/",
          "height": 759
        }
      },
      "source": [
        "!pip install pigeon-jupyter"
      ],
      "execution_count": 0,
      "outputs": [
        {
          "output_type": "stream",
          "text": [
            "Collecting pigeon-jupyter\n",
            "  Downloading https://files.pythonhosted.org/packages/d1/c7/0a19ff2f31d242804e6f521c35b388475766565503b318e0462b2a4b6731/pigeon-jupyter-0.1.0.tar.gz\n",
            "Requirement already satisfied: ipywidgets in /usr/local/lib/python3.6/dist-packages (from pigeon-jupyter) (7.4.2)\n",
            "Requirement already satisfied: ipykernel>=4.5.1 in /usr/local/lib/python3.6/dist-packages (from ipywidgets->pigeon-jupyter) (4.6.1)\n",
            "Requirement already satisfied: ipython>=4.0.0; python_version >= \"3.3\" in /usr/local/lib/python3.6/dist-packages (from ipywidgets->pigeon-jupyter) (5.5.0)\n",
            "Requirement already satisfied: widgetsnbextension~=3.4.0 in /usr/local/lib/python3.6/dist-packages (from ipywidgets->pigeon-jupyter) (3.4.2)\n",
            "Requirement already satisfied: traitlets>=4.3.1 in /usr/local/lib/python3.6/dist-packages (from ipywidgets->pigeon-jupyter) (4.3.2)\n",
            "Requirement already satisfied: nbformat>=4.2.0 in /usr/local/lib/python3.6/dist-packages (from ipywidgets->pigeon-jupyter) (4.4.0)\n",
            "Requirement already satisfied: jupyter-client in /usr/local/lib/python3.6/dist-packages (from ipykernel>=4.5.1->ipywidgets->pigeon-jupyter) (5.2.4)\n",
            "Requirement already satisfied: tornado>=4.0 in /usr/local/lib/python3.6/dist-packages (from ipykernel>=4.5.1->ipywidgets->pigeon-jupyter) (4.5.3)\n",
            "Requirement already satisfied: pygments in /usr/local/lib/python3.6/dist-packages (from ipython>=4.0.0; python_version >= \"3.3\"->ipywidgets->pigeon-jupyter) (2.1.3)\n",
            "Requirement already satisfied: prompt-toolkit<2.0.0,>=1.0.4 in /usr/local/lib/python3.6/dist-packages (from ipython>=4.0.0; python_version >= \"3.3\"->ipywidgets->pigeon-jupyter) (1.0.16)\n",
            "Requirement already satisfied: simplegeneric>0.8 in /usr/local/lib/python3.6/dist-packages (from ipython>=4.0.0; python_version >= \"3.3\"->ipywidgets->pigeon-jupyter) (0.8.1)\n",
            "Requirement already satisfied: pickleshare in /usr/local/lib/python3.6/dist-packages (from ipython>=4.0.0; python_version >= \"3.3\"->ipywidgets->pigeon-jupyter) (0.7.5)\n",
            "Requirement already satisfied: pexpect; sys_platform != \"win32\" in /usr/local/lib/python3.6/dist-packages (from ipython>=4.0.0; python_version >= \"3.3\"->ipywidgets->pigeon-jupyter) (4.7.0)\n",
            "Requirement already satisfied: decorator in /usr/local/lib/python3.6/dist-packages (from ipython>=4.0.0; python_version >= \"3.3\"->ipywidgets->pigeon-jupyter) (4.4.0)\n",
            "Requirement already satisfied: setuptools>=18.5 in /usr/local/lib/python3.6/dist-packages (from ipython>=4.0.0; python_version >= \"3.3\"->ipywidgets->pigeon-jupyter) (41.0.1)\n",
            "Requirement already satisfied: notebook>=4.4.1 in /usr/local/lib/python3.6/dist-packages (from widgetsnbextension~=3.4.0->ipywidgets->pigeon-jupyter) (5.2.2)\n",
            "Requirement already satisfied: six in /usr/local/lib/python3.6/dist-packages (from traitlets>=4.3.1->ipywidgets->pigeon-jupyter) (1.12.0)\n",
            "Requirement already satisfied: ipython-genutils in /usr/local/lib/python3.6/dist-packages (from traitlets>=4.3.1->ipywidgets->pigeon-jupyter) (0.2.0)\n",
            "Requirement already satisfied: jupyter-core in /usr/local/lib/python3.6/dist-packages (from nbformat>=4.2.0->ipywidgets->pigeon-jupyter) (4.5.0)\n",
            "Requirement already satisfied: jsonschema!=2.5.0,>=2.4 in /usr/local/lib/python3.6/dist-packages (from nbformat>=4.2.0->ipywidgets->pigeon-jupyter) (2.6.0)\n",
            "Requirement already satisfied: pyzmq>=13 in /usr/local/lib/python3.6/dist-packages (from jupyter-client->ipykernel>=4.5.1->ipywidgets->pigeon-jupyter) (17.0.0)\n",
            "Requirement already satisfied: python-dateutil>=2.1 in /usr/local/lib/python3.6/dist-packages (from jupyter-client->ipykernel>=4.5.1->ipywidgets->pigeon-jupyter) (2.5.3)\n",
            "Requirement already satisfied: wcwidth in /usr/local/lib/python3.6/dist-packages (from prompt-toolkit<2.0.0,>=1.0.4->ipython>=4.0.0; python_version >= \"3.3\"->ipywidgets->pigeon-jupyter) (0.1.7)\n",
            "Requirement already satisfied: ptyprocess>=0.5 in /usr/local/lib/python3.6/dist-packages (from pexpect; sys_platform != \"win32\"->ipython>=4.0.0; python_version >= \"3.3\"->ipywidgets->pigeon-jupyter) (0.6.0)\n",
            "Requirement already satisfied: terminado>=0.3.3; sys_platform != \"win32\" in /usr/local/lib/python3.6/dist-packages (from notebook>=4.4.1->widgetsnbextension~=3.4.0->ipywidgets->pigeon-jupyter) (0.8.2)\n",
            "Requirement already satisfied: jinja2 in /usr/local/lib/python3.6/dist-packages (from notebook>=4.4.1->widgetsnbextension~=3.4.0->ipywidgets->pigeon-jupyter) (2.10.1)\n",
            "Requirement already satisfied: nbconvert in /usr/local/lib/python3.6/dist-packages (from notebook>=4.4.1->widgetsnbextension~=3.4.0->ipywidgets->pigeon-jupyter) (5.5.0)\n",
            "Requirement already satisfied: MarkupSafe>=0.23 in /usr/local/lib/python3.6/dist-packages (from jinja2->notebook>=4.4.1->widgetsnbextension~=3.4.0->ipywidgets->pigeon-jupyter) (1.1.1)\n",
            "Requirement already satisfied: bleach in /usr/local/lib/python3.6/dist-packages (from nbconvert->notebook>=4.4.1->widgetsnbextension~=3.4.0->ipywidgets->pigeon-jupyter) (3.1.0)\n",
            "Requirement already satisfied: entrypoints>=0.2.2 in /usr/local/lib/python3.6/dist-packages (from nbconvert->notebook>=4.4.1->widgetsnbextension~=3.4.0->ipywidgets->pigeon-jupyter) (0.3)\n",
            "Requirement already satisfied: testpath in /usr/local/lib/python3.6/dist-packages (from nbconvert->notebook>=4.4.1->widgetsnbextension~=3.4.0->ipywidgets->pigeon-jupyter) (0.4.2)\n",
            "Requirement already satisfied: defusedxml in /usr/local/lib/python3.6/dist-packages (from nbconvert->notebook>=4.4.1->widgetsnbextension~=3.4.0->ipywidgets->pigeon-jupyter) (0.6.0)\n",
            "Requirement already satisfied: pandocfilters>=1.4.1 in /usr/local/lib/python3.6/dist-packages (from nbconvert->notebook>=4.4.1->widgetsnbextension~=3.4.0->ipywidgets->pigeon-jupyter) (1.4.2)\n",
            "Requirement already satisfied: mistune>=0.8.1 in /usr/local/lib/python3.6/dist-packages (from nbconvert->notebook>=4.4.1->widgetsnbextension~=3.4.0->ipywidgets->pigeon-jupyter) (0.8.4)\n",
            "Requirement already satisfied: webencodings in /usr/local/lib/python3.6/dist-packages (from bleach->nbconvert->notebook>=4.4.1->widgetsnbextension~=3.4.0->ipywidgets->pigeon-jupyter) (0.5.1)\n",
            "Building wheels for collected packages: pigeon-jupyter\n",
            "  Building wheel for pigeon-jupyter (setup.py) ... \u001b[?25l\u001b[?25hdone\n",
            "  Stored in directory: /root/.cache/pip/wheels/9c/e1/74/712f424efed3467a38edd654aedaad8e303e254a5a0fdbed49\n",
            "Successfully built pigeon-jupyter\n",
            "Installing collected packages: pigeon-jupyter\n",
            "Successfully installed pigeon-jupyter-0.1.0\n"
          ],
          "name": "stdout"
        }
      ]
    },
    {
      "cell_type": "markdown",
      "metadata": {
        "id": "kKRKxGSYEn6C",
        "colab_type": "text"
      },
      "source": [
        "First import the annotation tool from the Pigeon library."
      ]
    },
    {
      "cell_type": "code",
      "metadata": {
        "id": "eur2uFVSBVXN",
        "colab_type": "code",
        "colab": {}
      },
      "source": [
        "from pigeon import annotate"
      ],
      "execution_count": 0,
      "outputs": []
    },
    {
      "cell_type": "markdown",
      "metadata": {
        "id": "UTfl2j4KEynd",
        "colab_type": "text"
      },
      "source": [
        "The `annotate` function requires two arguments `examples` and `options`.\n",
        "- `examples` are the texts we want to annotate\n",
        "- `options` are the labels"
      ]
    },
    {
      "cell_type": "code",
      "metadata": {
        "id": "w3FjQoKVF4MZ",
        "colab_type": "code",
        "outputId": "ce4140bd-1d68-46c6-c554-dd3901231578",
        "colab": {
          "base_uri": "https://localhost:8080/",
          "height": 373
        }
      },
      "source": [
        "help(annotate)"
      ],
      "execution_count": 0,
      "outputs": [
        {
          "output_type": "stream",
          "text": [
            "Help on function annotate in module pigeon.annotate:\n",
            "\n",
            "annotate(examples, options=None, shuffle=False, include_skip=True, display_fn=<function display at 0x7f9d63e5f620>)\n",
            "    Build an interactive widget for annotating a list of input examples.\n",
            "    \n",
            "    Parameters\n",
            "    ----------\n",
            "    examples: list(any), list of items to annotate\n",
            "    options: list(any) or tuple(start, end, [step]) or None\n",
            "             if list: list of labels for binary classification task (Dropdown or Buttons)\n",
            "             if tuple: range for regression task (IntSlider or FloatSlider)\n",
            "             if None: arbitrary text input (TextArea)\n",
            "    shuffle: bool, shuffle the examples before annotating\n",
            "    include_skip: bool, include option to skip example while annotating\n",
            "    display_fn: func, function for displaying an example to the user\n",
            "    \n",
            "    Returns\n",
            "    -------\n",
            "    annotations : list of tuples, list of annotated examples (example, label)\n",
            "\n"
          ],
          "name": "stdout"
        }
      ]
    },
    {
      "cell_type": "markdown",
      "metadata": {
        "id": "Zknm457zGPq7",
        "colab_type": "text"
      },
      "source": [
        "Below, we take the first ten speeches (if you want to annotate all documents remove `[:10]`), and print the first hundred characters of each speech. The labels are just placeholders, but feel free to change them to more meaningful items."
      ]
    },
    {
      "cell_type": "code",
      "metadata": {
        "id": "O6kZrK-7BWxT",
        "colab_type": "code",
        "colab": {}
      },
      "source": [
        "texts = [t[:100] for t in list(df.text)[:10]] # text to annotate\n",
        "labels = [\"about x\", \"about y\",\"about z\"] # labels"
      ],
      "execution_count": 0,
      "outputs": []
    },
    {
      "cell_type": "markdown",
      "metadata": {
        "id": "es8jaHIDHKdr",
        "colab_type": "text"
      },
      "source": [
        "Run the code below to start annotating!"
      ]
    },
    {
      "cell_type": "code",
      "metadata": {
        "id": "bG4vUBH5B8PO",
        "colab_type": "code",
        "outputId": "391063ea-61f4-4485-be71-55f22c0b929e",
        "colab": {
          "base_uri": "https://localhost:8080/",
          "height": 54
        }
      },
      "source": [
        "annotations = annotate(\n",
        "  examples = texts,\n",
        "  options = labels\n",
        ")"
      ],
      "execution_count": 0,
      "outputs": [
        {
          "output_type": "display_data",
          "data": {
            "text/plain": [
              "'Mr. Speaker, one interesting thing about being a parliamentary secretary is that you get to stay up '"
            ]
          },
          "metadata": {
            "tags": []
          }
        }
      ]
    },
    {
      "cell_type": "markdown",
      "metadata": {
        "id": "P-YkYKySHO2C",
        "colab_type": "text"
      },
      "source": [
        "Now you can print the annotations."
      ]
    },
    {
      "cell_type": "code",
      "metadata": {
        "id": "88txXgkqEJ5M",
        "colab_type": "code",
        "outputId": "be8d1f79-8bc9-4c63-bb48-223324cacebe",
        "colab": {
          "base_uri": "https://localhost:8080/",
          "height": 54
        }
      },
      "source": [
        "print(annotations)"
      ],
      "execution_count": 0,
      "outputs": [
        {
          "output_type": "stream",
          "text": [
            "[('Mr. Speaker, I am honoured to stand in the House to represent the people of the Elk Island constitue', 'about z'), ('Mr. Speaker, we are on the third and final reading of an act that affects the equalization arrangeme', 'about y'), ('Madam Speaker, at the start of my comments I advise that I will be splitting my time today with the ', 'about x'), ('Mr. Speaker, I am pleased to participate in this debate on the agreement on internal trade which wil', 'about y'), ('Madam Speaker, the agreement on international trade came into effect on July 1. Bill C-88 is intende', 'about z'), ('moved: That, in the opinion of this House, the government, on this 60th anniversary of the \"On to Ot', 'about y'), (\"Mr. Speaker, I rise to speak to the motion of the hon. member for Regina-Qu'Appelle concerning the 1\", 'about x')]\n"
          ],
          "name": "stdout"
        }
      ]
    },
    {
      "cell_type": "markdown",
      "metadata": {
        "id": "e7RvfEV_HXtm",
        "colab_type": "text"
      },
      "source": [
        "Or save them."
      ]
    },
    {
      "cell_type": "code",
      "metadata": {
        "id": "2LWC7f9DHZxb",
        "colab_type": "code",
        "colab": {}
      },
      "source": [
        "import pickle\n",
        "pickle.dump(annotations,open('annotations.pckl','wb'))\n"
      ],
      "execution_count": 0,
      "outputs": []
    },
    {
      "cell_type": "markdown",
      "metadata": {
        "id": "8cojo31xb2ZZ",
        "colab_type": "text"
      },
      "source": [
        "## Congratulations! You finished the Notebook\n",
        "Feel free to play with other examples and tweak the code where necessary!"
      ]
    }
  ]
}